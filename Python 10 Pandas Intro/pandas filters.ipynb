{
 "cells": [
  {
   "cell_type": "code",
   "execution_count": null,
   "metadata": {},
   "outputs": [],
   "source": [
    "import pandas as pd\n",
    "\n",
    "melb_data = pd.read_csv('data/melb_data.csv', sep=',')\n",
    "\n",
    "# Создадим маску и положим её в переменную с именем mask. Синтаксис очень прост:\n",
    "mask = melb_data[\"Price\"] > 2000000\n",
    "print(melb_data[mask].head())"
   ]
  },
  {
   "cell_type": "code",
   "execution_count": 10,
   "metadata": {},
   "outputs": [
    {
     "data": {
      "text/plain": [
       "5881"
      ]
     },
     "execution_count": 10,
     "metadata": {},
     "output_type": "execute_result"
    }
   ],
   "source": [
    "# Найдём количество зданий с тремя комнатами. Для этого отфильтруем таблицу по условию: \n",
    "# обратимся к результирующей таблице по столбцу Rooms и найдём число строк в ней с помощью атрибута shape:\n",
    "melb_data[melb_data['Rooms'] == 3].shape[0]"
   ]
  },
  {
   "cell_type": "code",
   "execution_count": 11,
   "metadata": {},
   "outputs": [
    {
     "data": {
      "text/plain": [
       "3"
      ]
     },
     "execution_count": 11,
     "metadata": {},
     "output_type": "execute_result"
    }
   ],
   "source": [
    "# Усложним прошлый пример и найдём число трёхкомнатных домов с ценой менее 300 тысяч:\n",
    "melb_data[(melb_data['Rooms'] == 3) & (melb_data['Price'] < 300000)].shape[0]"
   ]
  },
  {
   "cell_type": "code",
   "execution_count": 12,
   "metadata": {},
   "outputs": [
    {
     "data": {
      "text/plain": [
       "68"
      ]
     },
     "execution_count": 12,
     "metadata": {},
     "output_type": "execute_result"
    }
   ],
   "source": [
    "# Немного «ослабим» условие: теперь нас будут интересовать дома с ценой менее 300 тысяч, \n",
    "# у которых либо число комнат равно 3 либо площадь домов более 100 квадратных метров:\n",
    "melb_data[((melb_data['Rooms'] == 3) | (melb_data['BuildingArea'] > 100)) & (melb_data['Price'] < 300000)].shape[0]"
   ]
  },
  {
   "cell_type": "code",
   "execution_count": 13,
   "metadata": {},
   "outputs": [
    {
     "data": {
      "text/plain": [
       "5"
      ]
     },
     "execution_count": 13,
     "metadata": {},
     "output_type": "execute_result"
    }
   ],
   "source": [
    "# Давайте найдём максимальное количество комнат в таунхаусах. Так как в результате фильтрации получается DataFrame, \n",
    "# то обратимся к нему по столбцу Rooms и найдём максимальное значение:\n",
    "melb_data[melb_data['Type'] == 't']['Rooms'].max()"
   ]
  },
  {
   "cell_type": "code",
   "execution_count": 14,
   "metadata": {},
   "outputs": [
    {
     "data": {
      "text/plain": [
       "126.0"
      ]
     },
     "execution_count": 14,
     "metadata": {},
     "output_type": "execute_result"
    }
   ],
   "source": [
    "# Найдём медианную площадь здания у объектов, чья цена выше средней. Для того чтобы оградить наш код от нагромождений,\n",
    "# предварительно создадим переменную со средней ценой:\n",
    "mean_price = melb_data['Price'].mean()\n",
    "melb_data[melb_data['Price'] > mean_price]['BuildingArea'].median()"
   ]
  },
  {
   "cell_type": "code",
   "execution_count": 23,
   "metadata": {},
   "outputs": [
    {
     "data": {
      "text/plain": [
       "34"
      ]
     },
     "metadata": {},
     "output_type": "display_data"
    }
   ],
   "source": [
    "# У скольких объектов недвижимости из таблицы melb_data отсутствуют ванные комнаты?\n",
    "# Функция isna() в pandas используется для проверки отсутствия значений в данных (не проходили пока)\n",
    "missing_bathrooms_mask = (melb_data['Bathroom'].isna()) | (melb_data['Bathroom'] == 0)\n",
    "missing_bathrooms_count = melb_data[missing_bathrooms_mask].shape[0]\n",
    "display(missing_bathrooms_count)"
   ]
  },
  {
   "cell_type": "code",
   "execution_count": 26,
   "metadata": {},
   "outputs": [
    {
     "data": {
      "text/plain": [
       "5"
      ]
     },
     "metadata": {},
     "output_type": "display_data"
    }
   ],
   "source": [
    "# Сколько в таблице melb_data объектов недвижимости, \n",
    "# которые были проданы риелторской компанией Nelson и стоимость которых составила больше 3 миллионов?\n",
    "nelson_and_expensive_mask = (melb_data['SellerG'] == 'Nelson') & (melb_data['Price'] > 3000000)\n",
    "nelson_and_expensive_count = melb_data[nelson_and_expensive_mask].shape[0]\n",
    "display(nelson_and_expensive_count)"
   ]
  },
  {
   "cell_type": "code",
   "execution_count": 27,
   "metadata": {},
   "outputs": [
    {
     "data": {
      "text/plain": [
       "412500.0"
      ]
     },
     "metadata": {},
     "output_type": "display_data"
    }
   ],
   "source": [
    "# Какова минимальная стоимость участка без здания (площадь здания равна 0) в таблице\n",
    "land_without_building_mask = melb_data['BuildingArea'] == 0\n",
    "min_price_land_without_building = melb_data.loc[land_without_building_mask, 'Price'].min()\n",
    "display(min_price_land_without_building)"
   ]
  },
  {
   "cell_type": "code",
   "execution_count": 28,
   "metadata": {},
   "outputs": [
    {
     "data": {
      "text/plain": [
       "769238.6363636364"
      ]
     },
     "metadata": {},
     "output_type": "display_data"
    }
   ],
   "source": [
    "# Какова средняя цена объектов недвижимости в таблице melb_data с ценой менее одного миллиона, \n",
    "# в которых либо количество комнат больше пяти, либо здание моложе 2015 года?\n",
    "filtered_properties_mask = ((melb_data['Price'] < 1000000) & ((melb_data['Rooms'] > 5) | (melb_data['YearBuilt'] > 2015)))\n",
    "average_price_filtered_properties = melb_data.loc[filtered_properties_mask, 'Price'].mean()\n",
    "display(average_price_filtered_properties)\n"
   ]
  },
  {
   "cell_type": "code",
   "execution_count": 42,
   "metadata": {},
   "outputs": [
    {
     "data": {
      "text/plain": [
       "0    Northern Metropolitan\n",
       "Name: Regionname, dtype: object"
      ]
     },
     "metadata": {},
     "output_type": "display_data"
    }
   ],
   "source": [
    "# В каком районе Мельбурна чаще всего продаются виллы и коттеджи (тип здания — h) с ценой меньше трёх миллионов?\n",
    "# Создание маски для вилл и коттеджей с ценой меньше трех миллионов\n",
    "villas_cottages_mask = (melb_data['Type'] == 'h') & (melb_data['Price'] < 3000000)\n",
    "filtered_data = melb_data.loc[villas_cottages_mask, 'Regionname']\n",
    "most_common_suburb = filtered_data.mode()\n",
    "display(most_common_suburb)\n"
   ]
  }
 ],
 "metadata": {
  "kernelspec": {
   "display_name": "Python 3",
   "language": "python",
   "name": "python3"
  },
  "language_info": {
   "codemirror_mode": {
    "name": "ipython",
    "version": 3
   },
   "file_extension": ".py",
   "mimetype": "text/x-python",
   "name": "python",
   "nbconvert_exporter": "python",
   "pygments_lexer": "ipython3",
   "version": "3.12.0"
  }
 },
 "nbformat": 4,
 "nbformat_minor": 2
}
