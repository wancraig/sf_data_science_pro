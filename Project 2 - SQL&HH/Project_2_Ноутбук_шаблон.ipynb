{
  "cells": [
    {
      "cell_type": "markdown",
      "id": "42289889-bd57-434e-9637-d3e354756316",
      "metadata": {
        "id": "42289889-bd57-434e-9637-d3e354756316"
      },
      "source": [
        "<center> <img src = https://raw.githubusercontent.com/AndreyRysistov/DatasetsForPandas/main/hh%20label.jpg alt=\"drawing\" style=\"width:400px;\">"
      ]
    },
    {
      "cell_type": "markdown",
      "id": "829cb75b-f14e-4ba8-9195-7ba929a7d656",
      "metadata": {
        "id": "829cb75b-f14e-4ba8-9195-7ba929a7d656",
        "tags": []
      },
      "source": [
        "# <center> Проект: Анализ вакансий из HeadHunter\n",
        "   "
      ]
    },
    {
      "cell_type": "code",
      "execution_count": 1,
      "id": "dccfde33-2452-43fb-a8a5-5c6ebc02a71d",
      "metadata": {
        "id": "dccfde33-2452-43fb-a8a5-5c6ebc02a71d"
      },
      "outputs": [],
      "source": [
        "import pandas as pd\n",
        "import psycopg2"
      ]
    },
    {
      "cell_type": "code",
      "execution_count": 2,
      "id": "oVKH4ehvf8Ay",
      "metadata": {
        "id": "oVKH4ehvf8Ay"
      },
      "outputs": [],
      "source": [
        "DBNAME = ''\n",
        "USER = ''\n",
        "PASSWORD = ''\n",
        "HOST = ''\n",
        "PORT = "
      ]
    },
    {
      "cell_type": "code",
      "execution_count": 3,
      "id": "G4X_q8KBf7SF",
      "metadata": {
        "id": "G4X_q8KBf7SF"
      },
      "outputs": [],
      "source": [
        "connection = psycopg2.connect(\n",
        "    dbname=DBNAME,\n",
        "    user=USER,\n",
        "    host=HOST,\n",
        "    password=PASSWORD,\n",
        "    port=PORT\n",
        ")"
      ]
    },
    {
      "cell_type": "markdown",
      "id": "0dc6476b-7a00-44f1-ac93-6e3baed33a29",
      "metadata": {
        "id": "0dc6476b-7a00-44f1-ac93-6e3baed33a29"
      },
      "source": [
        "# Юнит 3. Предварительный анализ данных"
      ]
    },
    {
      "cell_type": "markdown",
      "id": "889782b6-8d1c-410e-8920-e57f27917c64",
      "metadata": {
        "id": "889782b6-8d1c-410e-8920-e57f27917c64"
      },
      "source": [
        "1. Напишите запрос, который посчитает количество вакансий в нашей базе (вакансии находятся в таблице vacancies). "
      ]
    },
    {
      "cell_type": "code",
      "execution_count": 4,
      "id": "bc39e68e-ed02-4ee2-9235-7258a2f867a8",
      "metadata": {
        "id": "bc39e68e-ed02-4ee2-9235-7258a2f867a8"
      },
      "outputs": [
        {
          "name": "stderr",
          "output_type": "stream",
          "text": [
            "C:\\TEMP\\ipykernel_11696\\3932150674.py:5: UserWarning: pandas only supports SQLAlchemy connectable (engine/connection) or database string URI or sqlite3 DBAPI2 connection. Other DBAPI2 objects are not tested. Please consider using SQLAlchemy.\n",
            "  df = pd.read_sql_query(query_3_1, connection)\n"
          ]
        }
      ],
      "source": [
        "query_3_1 = f'''\n",
        "    SELECT COUNT(*) AS vacancies_count\n",
        "    FROM vacancies;\n",
        "'''\n",
        "df = pd.read_sql_query(query_3_1, connection)\n",
        "\n",
        "# Вывод результата\n",
        "# print(df)\n",
        "\n"
      ]
    },
    {
      "cell_type": "code",
      "execution_count": 5,
      "id": "7mAwtsk4hEHY",
      "metadata": {
        "id": "7mAwtsk4hEHY"
      },
      "outputs": [],
      "source": [
        "# 49197"
      ]
    },
    {
      "cell_type": "markdown",
      "id": "b583485d-1f9e-494e-ada4-80ffff7c53d6",
      "metadata": {
        "id": "b583485d-1f9e-494e-ada4-80ffff7c53d6"
      },
      "source": [
        "2. Напишите запрос, который посчитает количество работодателей (таблица employers). "
      ]
    },
    {
      "cell_type": "code",
      "execution_count": 6,
      "id": "5408c52c-3407-4a63-b25b-1aafa2322d28",
      "metadata": {
        "id": "5408c52c-3407-4a63-b25b-1aafa2322d28"
      },
      "outputs": [
        {
          "name": "stderr",
          "output_type": "stream",
          "text": [
            "C:\\TEMP\\ipykernel_11696\\1975091267.py:6: UserWarning: pandas only supports SQLAlchemy connectable (engine/connection) or database string URI or sqlite3 DBAPI2 connection. Other DBAPI2 objects are not tested. Please consider using SQLAlchemy.\n",
            "  df = pd.read_sql_query(query_3_2, connection)\n"
          ]
        }
      ],
      "source": [
        "query_3_2 = '''\n",
        "    SELECT COUNT(*) AS employers_count\n",
        "    FROM employers;\n",
        "'''\n",
        "\n",
        "df = pd.read_sql_query(query_3_2, connection)\n",
        "\n",
        "# Вывод результата\n",
        "# print(df)\n"
      ]
    },
    {
      "cell_type": "code",
      "execution_count": 7,
      "id": "jVL4eshKhdqc",
      "metadata": {
        "id": "jVL4eshKhdqc"
      },
      "outputs": [],
      "source": [
        "# 23501"
      ]
    },
    {
      "cell_type": "markdown",
      "id": "a2bfff1f-c975-4bf6-84be-2185d79dcb76",
      "metadata": {
        "id": "a2bfff1f-c975-4bf6-84be-2185d79dcb76"
      },
      "source": [
        "3. Посчитате с помощью запроса количество регионов (таблица areas)."
      ]
    },
    {
      "cell_type": "code",
      "execution_count": 8,
      "id": "1m8QJwBYhey6",
      "metadata": {
        "id": "1m8QJwBYhey6"
      },
      "outputs": [
        {
          "name": "stderr",
          "output_type": "stream",
          "text": [
            "C:\\TEMP\\ipykernel_11696\\1030811043.py:6: UserWarning: pandas only supports SQLAlchemy connectable (engine/connection) or database string URI or sqlite3 DBAPI2 connection. Other DBAPI2 objects are not tested. Please consider using SQLAlchemy.\n",
            "  df = pd.read_sql_query(query_3_3, connection)\n"
          ]
        }
      ],
      "source": [
        "query_3_3 = '''\n",
        "    SELECT COUNT(*) AS areas_count\n",
        "    FROM areas;\n",
        "'''\n",
        "\n",
        "df = pd.read_sql_query(query_3_3, connection)\n",
        "\n",
        "# Вывод результата\n",
        "# print(df)\n",
        "\n"
      ]
    },
    {
      "cell_type": "code",
      "execution_count": 9,
      "id": "EZsn9tlfhe7f",
      "metadata": {
        "id": "EZsn9tlfhe7f"
      },
      "outputs": [],
      "source": [
        "# 1362"
      ]
    },
    {
      "cell_type": "markdown",
      "id": "41bb59f3-53cc-4a67-a5bc-bedf573955e4",
      "metadata": {
        "id": "41bb59f3-53cc-4a67-a5bc-bedf573955e4"
      },
      "source": [
        "4. Посчитате с помощью запроса количество сфер деятельности в базе (таблица industries)."
      ]
    },
    {
      "cell_type": "code",
      "execution_count": 10,
      "id": "d286cf4c-707b-4cd2-9190-7ab3587d04a1",
      "metadata": {
        "id": "d286cf4c-707b-4cd2-9190-7ab3587d04a1"
      },
      "outputs": [
        {
          "name": "stderr",
          "output_type": "stream",
          "text": [
            "C:\\TEMP\\ipykernel_11696\\4048974270.py:6: UserWarning: pandas only supports SQLAlchemy connectable (engine/connection) or database string URI or sqlite3 DBAPI2 connection. Other DBAPI2 objects are not tested. Please consider using SQLAlchemy.\n",
            "  df = pd.read_sql_query(query_3_4, connection)\n"
          ]
        }
      ],
      "source": [
        "query_3_4 = '''\n",
        "    SELECT COUNT(*) AS industries_count\n",
        "    FROM industries;\n",
        "'''\n",
        "\n",
        "df = pd.read_sql_query(query_3_4, connection)\n",
        "\n",
        "# Вывод результата\n",
        "# print(df)\n"
      ]
    },
    {
      "cell_type": "code",
      "execution_count": 11,
      "id": "JYAaoZ4qhfzW",
      "metadata": {
        "id": "JYAaoZ4qhfzW"
      },
      "outputs": [],
      "source": [
        "# 294"
      ]
    },
    {
      "cell_type": "markdown",
      "id": "9a8a2181-6914-448b-85f1-38f5f18b8a93",
      "metadata": {
        "id": "9a8a2181-6914-448b-85f1-38f5f18b8a93"
      },
      "source": [
        "***"
      ]
    },
    {
      "cell_type": "code",
      "execution_count": 12,
      "id": "be4e9bd3-a4db-4a20-82fb-6b02fc2957e0",
      "metadata": {
        "id": "be4e9bd3-a4db-4a20-82fb-6b02fc2957e0"
      },
      "outputs": [],
      "source": [
        "# База данных довольно объемная и содержит в себе 49 197 вакансий, которые приходятся на 23 501 работодателей.\n",
        "# База охватывает 1362 региона и 294 сферы деятельности. Нужно провести дополнительный анализ позиций на предмет \n",
        "# дубликатов и нулевых значений (там где в этом есть смысл). Далее можно с помощью графиков попробовать \n",
        "# отобразить интересующую нас информацию, например где больше всего платят, какие специалисты наиболее востребованы и т.д."
      ]
    },
    {
      "cell_type": "markdown",
      "id": "8d62a9f3-f64e-4fe7-bdac-c4dffa16155e",
      "metadata": {
        "id": "8d62a9f3-f64e-4fe7-bdac-c4dffa16155e"
      },
      "source": [
        "# Юнит 4. Детальный анализ вакансий"
      ]
    },
    {
      "cell_type": "markdown",
      "id": "93053d3d-b284-481a-9cf7-012d7014c0e0",
      "metadata": {
        "id": "93053d3d-b284-481a-9cf7-012d7014c0e0"
      },
      "source": [
        "1. Напишите запрос, который позволит узнать, сколько (cnt) вакансий в каждом регионе (area).\n",
        "Отсортируйте по количеству вакансий в порядке убывания."
      ]
    },
    {
      "cell_type": "code",
      "execution_count": 13,
      "id": "3f069da6-fdc9-4ae7-b514-fafe2675efd3",
      "metadata": {
        "id": "3f069da6-fdc9-4ae7-b514-fafe2675efd3"
      },
      "outputs": [
        {
          "ename": "SyntaxError",
          "evalue": "unterminated string literal (detected at line 13) (2046103900.py, line 13)",
          "output_type": "error",
          "traceback": [
            "\u001b[1;36m  Cell \u001b[1;32mIn[13], line 13\u001b[1;36m\u001b[0m\n\u001b[1;33m    \" print(df)\u001b[0m\n\u001b[1;37m    ^\u001b[0m\n\u001b[1;31mSyntaxError\u001b[0m\u001b[1;31m:\u001b[0m unterminated string literal (detected at line 13)\n"
          ]
        }
      ],
      "source": [
        "query_4_1 = '''\n",
        "    SELECT a.name AS area, COUNT(v.id) AS cnt\n",
        "    FROM areas a\n",
        "    JOIN vacancies v ON a.id = v.area_id\n",
        "    GROUP BY a.name\n",
        "    ORDER BY cnt DESC\n",
        "    LIMIT 5;\n",
        "'''\n",
        "\n",
        "df = pd.read_sql_query(query_4_1, connection)\n",
        "\n",
        "# Вывод результата\n",
        "\" print(df)\n"
      ]
    },
    {
      "cell_type": "code",
      "execution_count": null,
      "id": "P7QL86hrjhRJ",
      "metadata": {
        "id": "P7QL86hrjhRJ"
      },
      "outputs": [],
      "source": [
        "# Москва, Санкт-Петербург, Минск, Новосибирск, Алматы"
      ]
    },
    {
      "cell_type": "markdown",
      "id": "4266f0b6-1646-492a-88b4-2f6a46502135",
      "metadata": {
        "id": "4266f0b6-1646-492a-88b4-2f6a46502135"
      },
      "source": [
        "2. Напишите запрос, чтобы определить у какого количества вакансий заполнено хотя бы одно из двух полей с зарплатой."
      ]
    },
    {
      "cell_type": "code",
      "execution_count": null,
      "id": "0c44b350-72eb-4d65-8b54-a1fc449ba9fd",
      "metadata": {
        "id": "0c44b350-72eb-4d65-8b54-a1fc449ba9fd"
      },
      "outputs": [
        {
          "name": "stdout",
          "output_type": "stream",
          "text": [
            "   vacancies_with_salary\n",
            "0                  24073\n"
          ]
        },
        {
          "name": "stderr",
          "output_type": "stream",
          "text": [
            "C:\\TEMP\\ipykernel_12000\\4034331673.py:7: UserWarning: pandas only supports SQLAlchemy connectable (engine/connection) or database string URI or sqlite3 DBAPI2 connection. Other DBAPI2 objects are not tested. Please consider using SQLAlchemy.\n",
            "  df = pd.read_sql_query(query_3_6, connection)\n"
          ]
        }
      ],
      "source": [
        "query_4_2 = '''\n",
        "    SELECT COUNT(*) AS vacancies_with_salary\n",
        "    FROM vacancies\n",
        "    WHERE salary_from IS NOT NULL OR salary_to IS NOT NULL;\n",
        "'''\n",
        "\n",
        "df = pd.read_sql_query(query_4_2, connection)\n",
        "\n",
        "# Вывод результата\n",
        "# print(df)\n"
      ]
    },
    {
      "cell_type": "code",
      "execution_count": null,
      "id": "rhvwaMDkoWTi",
      "metadata": {
        "id": "rhvwaMDkoWTi"
      },
      "outputs": [],
      "source": [
        "# 24073"
      ]
    },
    {
      "cell_type": "markdown",
      "id": "635c4d5d-f323-4c66-b428-50a088120aa0",
      "metadata": {
        "id": "635c4d5d-f323-4c66-b428-50a088120aa0"
      },
      "source": [
        "3. Найдите средние значения для нижней и верхней границы зарплатной вилки. Округлите значения до целого."
      ]
    },
    {
      "cell_type": "code",
      "execution_count": null,
      "id": "603cdbe4-0ec3-4106-8eaf-c73fcdd29165",
      "metadata": {
        "id": "603cdbe4-0ec3-4106-8eaf-c73fcdd29165"
      },
      "outputs": [
        {
          "name": "stdout",
          "output_type": "stream",
          "text": [
            "   avg_salary_from  avg_salary_to\n",
            "0          71065.0       110537.0\n"
          ]
        },
        {
          "name": "stderr",
          "output_type": "stream",
          "text": [
            "C:\\TEMP\\ipykernel_12000\\1115818901.py:9: UserWarning: pandas only supports SQLAlchemy connectable (engine/connection) or database string URI or sqlite3 DBAPI2 connection. Other DBAPI2 objects are not tested. Please consider using SQLAlchemy.\n",
            "  df = pd.read_sql_query(query_3_7, connection)\n"
          ]
        }
      ],
      "source": [
        "query_4_3 = '''\n",
        "    SELECT \n",
        "        ROUND(AVG(salary_from)) AS avg_salary_from, \n",
        "        ROUND(AVG(salary_to)) AS avg_salary_to\n",
        "    FROM vacancies\n",
        "    WHERE salary_from IS NOT NULL OR salary_to IS NOT NULL;\n",
        "'''\n",
        "\n",
        "df = pd.read_sql_query(query_4_3, connection)\n",
        "\n",
        "# Вывод результата\n",
        "# print(df)\n"
      ]
    },
    {
      "cell_type": "code",
      "execution_count": null,
      "id": "pswpAb66ovZZ",
      "metadata": {
        "id": "pswpAb66ovZZ"
      },
      "outputs": [],
      "source": [
        "# lower: 71065; upper: 110537"
      ]
    },
    {
      "cell_type": "markdown",
      "id": "f3fdaec9-5fd3-4260-9cf5-1d7406b628a5",
      "metadata": {
        "id": "f3fdaec9-5fd3-4260-9cf5-1d7406b628a5"
      },
      "source": [
        "4. Напишите запрос, который выведет количество вакансий для каждого сочетания типа рабочего графика (schedule) и типа трудоустройства (employment), используемого в вакансиях. Результат отсортируйте по убыванию количества.\n"
      ]
    },
    {
      "cell_type": "code",
      "execution_count": null,
      "id": "1ea710ec-871b-431e-9462-c7d0fd87011b",
      "metadata": {
        "id": "1ea710ec-871b-431e-9462-c7d0fd87011b"
      },
      "outputs": [
        {
          "name": "stderr",
          "output_type": "stream",
          "text": [
            "C:\\TEMP\\ipykernel_12000\\3323699257.py:8: UserWarning: pandas only supports SQLAlchemy connectable (engine/connection) or database string URI or sqlite3 DBAPI2 connection. Other DBAPI2 objects are not tested. Please consider using SQLAlchemy.\n",
            "  df = pd.read_sql_query(query_3_8, connection)\n"
          ]
        },
        {
          "name": "stdout",
          "output_type": "stream",
          "text": [
            "            schedule           employment  vacancies_count\n",
            "0        Полный день     Полная занятость            35367\n",
            "1   Удаленная работа     Полная занятость             7802\n",
            "2      Гибкий график     Полная занятость             1593\n",
            "3   Удаленная работа  Частичная занятость             1312\n",
            "4     Сменный график     Полная занятость              940\n",
            "5        Полный день           Стажировка              569\n",
            "6     Вахтовый метод     Полная занятость              367\n",
            "7        Полный день  Частичная занятость              347\n",
            "8      Гибкий график  Частичная занятость              312\n",
            "9        Полный день     Проектная работа              141\n",
            "10  Удаленная работа     Проектная работа              133\n",
            "11     Гибкий график           Стажировка              116\n",
            "12    Сменный график  Частичная занятость              101\n",
            "13  Удаленная работа           Стажировка               64\n",
            "14     Гибкий график     Проектная работа               18\n",
            "15    Сменный график           Стажировка               12\n",
            "16    Вахтовый метод     Проектная работа                2\n",
            "17    Сменный график     Проектная работа                1\n"
          ]
        }
      ],
      "source": [
        "query_4_4 = '''\n",
        "    SELECT schedule, employment, COUNT(*) AS vacancies_count\n",
        "    FROM vacancies\n",
        "    GROUP BY schedule, employment\n",
        "    ORDER BY vacancies_count DESC;\n",
        "'''\n",
        "\n",
        "df = pd.read_sql_query(query_4_4, connection)\n",
        "\n",
        "# Вывод результата\n",
        "print(df)\n"
      ]
    },
    {
      "cell_type": "code",
      "execution_count": null,
      "id": "lGUVqavdo4JQ",
      "metadata": {
        "id": "lGUVqavdo4JQ"
      },
      "outputs": [],
      "source": [
        "# 0        Полный день     Полная занятость            35367\n",
        "# 1   Удаленная работа     Полная занятость             7802 \n",
        "# .........................................................."
      ]
    },
    {
      "cell_type": "markdown",
      "id": "0136ffee-0ead-4a6b-b608-61d1c753a438",
      "metadata": {
        "id": "0136ffee-0ead-4a6b-b608-61d1c753a438"
      },
      "source": [
        "5. Напишите запрос, выводящий значения поля Требуемый опыт работы (experience) в порядке возрастания количества вакансий, в которых указан данный вариант опыта. "
      ]
    },
    {
      "cell_type": "code",
      "execution_count": null,
      "id": "5b3a8e79-f7ab-4008-b767-12aea3a205ea",
      "metadata": {
        "id": "5b3a8e79-f7ab-4008-b767-12aea3a205ea"
      },
      "outputs": [
        {
          "name": "stdout",
          "output_type": "stream",
          "text": [
            "           experience  vacancies_count\n",
            "0         Более 6 лет             1337\n",
            "1           Нет опыта             7197\n",
            "2       От 3 до 6 лет            14511\n",
            "3  От 1 года до 3 лет            26152\n"
          ]
        },
        {
          "name": "stderr",
          "output_type": "stream",
          "text": [
            "C:\\TEMP\\ipykernel_12000\\1611294649.py:8: UserWarning: pandas only supports SQLAlchemy connectable (engine/connection) or database string URI or sqlite3 DBAPI2 connection. Other DBAPI2 objects are not tested. Please consider using SQLAlchemy.\n",
            "  df = pd.read_sql_query(query_3_9, connection)\n"
          ]
        }
      ],
      "source": [
        "query_4_5 = '''\n",
        "    SELECT experience, COUNT(*) AS vacancies_count\n",
        "    FROM vacancies\n",
        "    GROUP BY experience\n",
        "    ORDER BY vacancies_count ASC;  -- Сортировка по возрастанию количества вакансий\n",
        "'''\n",
        "\n",
        "df = pd.read_sql_query(query_4_5, connection)\n",
        "\n",
        "# Вывод результата\n",
        "# print(df)\n"
      ]
    },
    {
      "cell_type": "code",
      "execution_count": null,
      "id": "3Is64Y-hpDpq",
      "metadata": {
        "id": "3Is64Y-hpDpq"
      },
      "outputs": [],
      "source": [
        "# Более 6 лет — Нет опыта — От 3 до 6 лет — От 1 года до 3 лет"
      ]
    },
    {
      "cell_type": "markdown",
      "id": "oq2b7n1QpIka",
      "metadata": {
        "id": "oq2b7n1QpIka"
      },
      "source": [
        "***"
      ]
    },
    {
      "cell_type": "code",
      "execution_count": null,
      "id": "e91f87ed-e25c-4f96-9f92-b642e8c0b4fa",
      "metadata": {
        "id": "e91f87ed-e25c-4f96-9f92-b642e8c0b4fa"
      },
      "outputs": [],
      "source": [
        "# Дальнейший анализ как и предполагалось в выводах предыдущего блока дал больше информации о БД. Можно сделать \n",
        "# следующие интересные выводы: города-лидеры по количеству вакансий это столицы или бывшие столицы, однако в \n",
        "# списке также Новосибирск (возможно аномалия или ошибка в данных? я плохо знаком с рынком России и СНГ), \n",
        "# только около половины вакансий заполнено поле с ЗП (видимо широкий диапазон в зависимости от квалификации, \n",
        "# однако мы можем на основании среднего диапазона составить понимание). Удаленная работа на полную занятость - находится \n",
        "# на втором месте по популярности (эффект пост-ковида?)"
      ]
    },
    {
      "cell_type": "markdown",
      "id": "7ea20ab6-04a7-40a0-adec-443a0e5a42c3",
      "metadata": {
        "id": "7ea20ab6-04a7-40a0-adec-443a0e5a42c3"
      },
      "source": [
        "# Юнит 5. Анализ работодателей"
      ]
    },
    {
      "cell_type": "markdown",
      "id": "968aed80-74ef-4ffb-b5bf-c65b84e9caea",
      "metadata": {
        "id": "968aed80-74ef-4ffb-b5bf-c65b84e9caea"
      },
      "source": [
        "1. Напишите запрос, который позволит узнать, какие работодатели находятся на первом и пятом месте по количеству вакансий."
      ]
    },
    {
      "cell_type": "code",
      "execution_count": null,
      "id": "f2d62796-d400-4ec1-a675-88112739a50e",
      "metadata": {
        "id": "f2d62796-d400-4ec1-a675-88112739a50e"
      },
      "outputs": [
        {
          "name": "stdout",
          "output_type": "stream",
          "text": [
            "            name  vacancies_count\n",
            "0         Яндекс             1933\n",
            "1  Газпром нефть              331\n"
          ]
        },
        {
          "name": "stderr",
          "output_type": "stream",
          "text": [
            "C:\\TEMP\\ipykernel_28816\\3715980346.py:18: UserWarning: pandas only supports SQLAlchemy connectable (engine/connection) or database string URI or sqlite3 DBAPI2 connection. Other DBAPI2 objects are not tested. Please consider using SQLAlchemy.\n",
            "  df = pd.read_sql_query(query_3_10, connection)\n"
          ]
        }
      ],
      "source": [
        "query_5_1 = '''\n",
        "WITH ranked_employers AS (\n",
        "    SELECT employer_id, COUNT(*) AS vacancies_count\n",
        "    FROM vacancies\n",
        "    GROUP BY employer_id\n",
        "    ORDER BY vacancies_count DESC\n",
        ")\n",
        "SELECT e.name, re.vacancies_count\n",
        "FROM (\n",
        "    SELECT employer_id, vacancies_count,\n",
        "           ROW_NUMBER() OVER (ORDER BY vacancies_count DESC) as rank\n",
        "    FROM ranked_employers\n",
        ") AS re\n",
        "JOIN employers e ON e.id = re.employer_id\n",
        "WHERE re.rank IN (1, 5);\n",
        "'''\n",
        "\n",
        "df = pd.read_sql_query(query_5_1, connection)\n",
        "\n",
        "# Вывод результата\n",
        "# print(df)\n"
      ]
    },
    {
      "cell_type": "code",
      "execution_count": null,
      "id": "64tOMkAxqkQk",
      "metadata": {
        "id": "64tOMkAxqkQk"
      },
      "outputs": [],
      "source": [
        "# Яндекс 1933 — Газпром нефть 331"
      ]
    },
    {
      "cell_type": "markdown",
      "id": "68377cfc-b378-43dc-ab7d-1195abf2c515",
      "metadata": {
        "id": "68377cfc-b378-43dc-ab7d-1195abf2c515"
      },
      "source": [
        "2. Напишите запрос, который для каждого региона выведет количество работодателей и вакансий в нём.\n",
        "Среди регионов, в которых нет вакансий, найдите тот, в котором наибольшее количество работодателей.\n"
      ]
    },
    {
      "cell_type": "code",
      "execution_count": null,
      "id": "dd7df27a-e3e8-412e-a21a-5d389b71e891",
      "metadata": {
        "id": "dd7df27a-e3e8-412e-a21a-5d389b71e891"
      },
      "outputs": [
        {
          "name": "stderr",
          "output_type": "stream",
          "text": [
            "C:\\TEMP\\ipykernel_28816\\4291446266.py:22: UserWarning: pandas only supports SQLAlchemy connectable (engine/connection) or database string URI or sqlite3 DBAPI2 connection. Other DBAPI2 objects are not tested. Please consider using SQLAlchemy.\n",
            "  df = pd.read_sql_query(query_3_11_corrected, connection)\n"
          ]
        },
        {
          "name": "stdout",
          "output_type": "stream",
          "text": [
            "  region_name  employers_count  vacancies_count\n",
            "0      Россия              410                0\n"
          ]
        }
      ],
      "source": [
        "query_5_2_corrected = '''\n",
        "WITH region_vacancies AS (\n",
        "    SELECT a.id AS region_id, a.name AS region_name, COUNT(v.id) AS vacancies_count\n",
        "    FROM areas a\n",
        "    LEFT JOIN vacancies v ON a.id = v.area_id\n",
        "    GROUP BY a.id\n",
        "),\n",
        "region_employers AS (\n",
        "    SELECT a.id AS region_id, COUNT(DISTINCT e.id) AS employers_count\n",
        "    FROM areas a\n",
        "    LEFT JOIN employers e ON a.id = e.area\n",
        "    GROUP BY a.id\n",
        ")\n",
        "SELECT rv.region_name, re.employers_count, rv.vacancies_count\n",
        "FROM region_vacancies rv\n",
        "JOIN region_employers re ON rv.region_id = re.region_id\n",
        "WHERE rv.vacancies_count = 0\n",
        "ORDER BY re.employers_count DESC\n",
        "LIMIT 1;\n",
        "'''\n",
        "\n",
        "df = pd.read_sql_query(query_5_2_corrected, connection)\n",
        "\n",
        "# Вывод результата\n",
        "# print(df)\n"
      ]
    },
    {
      "cell_type": "code",
      "execution_count": null,
      "id": "x1ikWbydrbf6",
      "metadata": {
        "id": "x1ikWbydrbf6"
      },
      "outputs": [],
      "source": [
        "# Россия              410   "
      ]
    },
    {
      "cell_type": "markdown",
      "id": "f2fe0acb-ab1a-4e15-9326-2560e22d73c1",
      "metadata": {
        "id": "f2fe0acb-ab1a-4e15-9326-2560e22d73c1"
      },
      "source": [
        "3. Для каждого работодателя посчитайте количество регионов, в которых он публикует свои вакансии. Отсортируйте результат по убыванию количества.\n"
      ]
    },
    {
      "cell_type": "code",
      "execution_count": null,
      "id": "6271f8ad-bd2e-4196-ae4a-5b39c4c1010e",
      "metadata": {
        "id": "6271f8ad-bd2e-4196-ae4a-5b39c4c1010e"
      },
      "outputs": [
        {
          "name": "stdout",
          "output_type": "stream",
          "text": [
            "   employer_id  regions_count\n",
            "0         1740            181\n"
          ]
        },
        {
          "name": "stderr",
          "output_type": "stream",
          "text": [
            "C:\\TEMP\\ipykernel_28816\\790032278.py:9: UserWarning: pandas only supports SQLAlchemy connectable (engine/connection) or database string URI or sqlite3 DBAPI2 connection. Other DBAPI2 objects are not tested. Please consider using SQLAlchemy.\n",
            "  df = pd.read_sql_query(query_3_12, connection)\n"
          ]
        }
      ],
      "source": [
        "query_5_3 = '''\n",
        "SELECT employer_id, COUNT(DISTINCT area_id) AS regions_count\n",
        "FROM vacancies\n",
        "GROUP BY employer_id\n",
        "ORDER BY regions_count DESC\n",
        "LIMIT 1;\n",
        "'''\n",
        "\n",
        "df = pd.read_sql_query(query_5_3, connection)\n",
        "\n",
        "# Вывод результата\n",
        "# print(df)\n"
      ]
    },
    {
      "cell_type": "code",
      "execution_count": null,
      "id": "1EIvX3HasH4F",
      "metadata": {
        "id": "1EIvX3HasH4F"
      },
      "outputs": [],
      "source": [
        "# 181"
      ]
    },
    {
      "cell_type": "markdown",
      "id": "eab2206d-d95b-468b-8e5f-34381abf0ce7",
      "metadata": {
        "id": "eab2206d-d95b-468b-8e5f-34381abf0ce7"
      },
      "source": [
        "4. Напишите запрос для подсчёта количества работодателей, у которых не указана сфера деятельности. "
      ]
    },
    {
      "cell_type": "code",
      "execution_count": null,
      "id": "80defb23-bfb1-4a18-8be6-bf36aa7165d5",
      "metadata": {
        "id": "80defb23-bfb1-4a18-8be6-bf36aa7165d5"
      },
      "outputs": [
        {
          "name": "stdout",
          "output_type": "stream",
          "text": [
            "   employers_without_industry\n",
            "0                        8419\n"
          ]
        },
        {
          "name": "stderr",
          "output_type": "stream",
          "text": [
            "C:\\TEMP\\ipykernel_28816\\1240444095.py:11: UserWarning: pandas only supports SQLAlchemy connectable (engine/connection) or database string URI or sqlite3 DBAPI2 connection. Other DBAPI2 objects are not tested. Please consider using SQLAlchemy.\n",
            "  df = pd.read_sql_query(query_3_13, connection)\n"
          ]
        }
      ],
      "source": [
        "query_5_4 = '''\n",
        "SELECT COUNT(*) AS employers_without_industry\n",
        "FROM employers e\n",
        "WHERE NOT EXISTS (\n",
        "    SELECT 1\n",
        "    FROM employers_industries ei\n",
        "    WHERE e.id = ei.employer_id\n",
        ");\n",
        "'''\n",
        "\n",
        "df = pd.read_sql_query(query_5_4, connection)\n",
        "\n",
        "# Вывод результата\n",
        "# print(df)\n"
      ]
    },
    {
      "cell_type": "code",
      "execution_count": null,
      "id": "Dp_yCx6ysQSu",
      "metadata": {
        "id": "Dp_yCx6ysQSu"
      },
      "outputs": [],
      "source": [
        "# 8419"
      ]
    },
    {
      "cell_type": "markdown",
      "id": "0112af31-f6b0-4e3b-82ab-71296e752e5e",
      "metadata": {
        "id": "0112af31-f6b0-4e3b-82ab-71296e752e5e"
      },
      "source": [
        "5. Напишите запрос, чтобы узнать название компании, находящейся на третьем месте в алфавитном списке (по названию) компаний, у которых указано четыре сферы деятельности. "
      ]
    },
    {
      "cell_type": "code",
      "execution_count": null,
      "id": "973b0cfc-a972-470a-8b4a-68744ef220c4",
      "metadata": {
        "id": "973b0cfc-a972-470a-8b4a-68744ef220c4"
      },
      "outputs": [
        {
          "name": "stdout",
          "output_type": "stream",
          "text": [
            "   name\n",
            "0  2ГИС\n"
          ]
        },
        {
          "name": "stderr",
          "output_type": "stream",
          "text": [
            "C:\\TEMP\\ipykernel_28816\\3438889341.py:15: UserWarning: pandas only supports SQLAlchemy connectable (engine/connection) or database string URI or sqlite3 DBAPI2 connection. Other DBAPI2 objects are not tested. Please consider using SQLAlchemy.\n",
            "  df = pd.read_sql_query(query_3_14, connection)\n"
          ]
        }
      ],
      "source": [
        "query_5_5 = '''\n",
        "WITH company_industries AS (\n",
        "    SELECT employer_id, COUNT(DISTINCT industry_id) AS industries_count\n",
        "    FROM employers_industries\n",
        "    GROUP BY employer_id\n",
        "    HAVING COUNT(DISTINCT industry_id) = 4\n",
        ")\n",
        "SELECT e.name\n",
        "FROM employers e\n",
        "JOIN company_industries ci ON e.id = ci.employer_id\n",
        "ORDER BY e.name\n",
        "LIMIT 1 OFFSET 2;\n",
        "'''\n",
        "\n",
        "df = pd.read_sql_query(query_5_5, connection)\n",
        "\n",
        "# Вывод результата\n",
        "# print(df)\n"
      ]
    },
    {
      "cell_type": "code",
      "execution_count": null,
      "id": "xsPtpp8EsaED",
      "metadata": {
        "id": "xsPtpp8EsaED"
      },
      "outputs": [],
      "source": [
        "# 2ГИС"
      ]
    },
    {
      "cell_type": "markdown",
      "id": "3bfcfdaf-755d-4d2b-8ed8-326201dc07ab",
      "metadata": {
        "id": "3bfcfdaf-755d-4d2b-8ed8-326201dc07ab"
      },
      "source": [
        "6. С помощью запроса выясните, у какого количества работодателей в качестве сферы деятельности указана Разработка программного обеспечения.\n"
      ]
    },
    {
      "cell_type": "code",
      "execution_count": null,
      "id": "ad3f270f-2991-47eb-929b-e8f88a55b0d1",
      "metadata": {
        "id": "ad3f270f-2991-47eb-929b-e8f88a55b0d1"
      },
      "outputs": [
        {
          "name": "stdout",
          "output_type": "stream",
          "text": [
            "   employers_count\n",
            "0             3553\n"
          ]
        },
        {
          "name": "stderr",
          "output_type": "stream",
          "text": [
            "C:\\TEMP\\ipykernel_28816\\3495851284.py:9: UserWarning: pandas only supports SQLAlchemy connectable (engine/connection) or database string URI or sqlite3 DBAPI2 connection. Other DBAPI2 objects are not tested. Please consider using SQLAlchemy.\n",
            "  df = pd.read_sql_query(query_5_6, connection)\n"
          ]
        }
      ],
      "source": [
        "query_5_6 = '''\n",
        "SELECT COUNT(DISTINCT e.id) AS employers_count\n",
        "FROM employers e\n",
        "JOIN employers_industries ei ON e.id = ei.employer_id\n",
        "JOIN industries i ON ei.industry_id = i.id\n",
        "WHERE i.name = 'Разработка программного обеспечения';\n",
        "'''\n",
        "\n",
        "df = pd.read_sql_query(query_5_6, connection)\n",
        "\n",
        "# Вывод результата\n",
        "# print(df)\n"
      ]
    },
    {
      "cell_type": "code",
      "execution_count": null,
      "id": "H72qxWM0shPR",
      "metadata": {
        "id": "H72qxWM0shPR"
      },
      "outputs": [],
      "source": [
        "# 3553"
      ]
    },
    {
      "cell_type": "markdown",
      "id": "7b02bb86-0546-40fb-94a4-242f050a5c57",
      "metadata": {
        "id": "7b02bb86-0546-40fb-94a4-242f050a5c57"
      },
      "source": [
        "7. Для компании «Яндекс» выведите список регионов-миллионников, в которых представлены вакансии компании, вместе с количеством вакансий в этих регионах. Также добавьте строку Total с общим количеством вакансий компании. Результат отсортируйте по возрастанию количества.\n",
        "\n",
        "Список городов-милионников надо взять [отсюда](https://ru.wikipedia.org/wiki/%D0%93%D0%BE%D1%80%D0%BE%D0%B4%D0%B0-%D0%BC%D0%B8%D0%BB%D0%BB%D0%B8%D0%BE%D0%BD%D0%B5%D1%80%D1%8B_%D0%A0%D0%BE%D1%81%D1%81%D0%B8%D0%B8). \n",
        "\n",
        "Если возникнут трудности с этим задание посмотрите материалы модуля  PYTHON-17. Как получать данные из веб-источников и API. "
      ]
    },
    {
      "cell_type": "code",
      "execution_count": null,
      "id": "ZdfrL6gIs1Pn",
      "metadata": {
        "id": "ZdfrL6gIs1Pn"
      },
      "outputs": [
        {
          "name": "stdout",
          "output_type": "stream",
          "text": [
            "             region  vacancies_count\n",
            "0         Волгоград               24\n",
            "1           Воронеж               32\n",
            "2      Екатеринбург               39\n",
            "3            Казань               25\n",
            "4         Краснодар               30\n",
            "5        Красноярск               23\n",
            "6            Москва               54\n",
            "7   Нижний Новгород               36\n",
            "8       Новосибирск               35\n",
            "9              Омск               21\n",
            "10            Пермь               25\n",
            "11   Ростов-на-Дону               25\n",
            "12           Самара               26\n",
            "13  Санкт-Петербург               42\n",
            "14              Уфа               26\n",
            "15        Челябинск               22\n",
            "16            Total              485\n"
          ]
        },
        {
          "name": "stderr",
          "output_type": "stream",
          "text": [
            "C:\\TEMP\\ipykernel_28816\\285681575.py:10: UserWarning: pandas only supports SQLAlchemy connectable (engine/connection) or database string URI or sqlite3 DBAPI2 connection. Other DBAPI2 objects are not tested. Please consider using SQLAlchemy.\n",
            "  df = pd.read_sql_query(query_5_7, connection)\n"
          ]
        }
      ],
      "source": [
        "query_5_7 = '''\n",
        "SELECT a.name AS region, COUNT(v.id) AS vacancies_count\n",
        "FROM areas a\n",
        "JOIN vacancies v ON a.id = v.area_id\n",
        "JOIN employers e ON e.id = v.employer_id\n",
        "WHERE e.name = 'Яндекс'\n",
        "GROUP BY a.name\n",
        "'''\n",
        "\n",
        "df = pd.read_sql_query(query_5_7, connection)\n",
        "\n",
        "# Список городов-миллионников\n",
        "million_cities = [\n",
        "    'Москва', 'Санкт-Петербург', 'Новосибирск', 'Екатеринбург', 'Казань', \n",
        "    'Нижний Новгород', 'Красноярск', 'Челябинск', 'Самара', 'Уфа', \n",
        "    'Ростов-на-Дону', 'Краснодар', 'Омск', 'Воронеж', 'Пермь', 'Волгоград'\n",
        "]\n",
        "\n",
        "# Фильтрация DataFrame по списку городов-миллионников\n",
        "df_filtered = df[df['region'].isin(million_cities)]\n",
        "\n",
        "# Добавление строки Total с общим количеством вакансий\n",
        "total_vacancies = df_filtered['vacancies_count'].sum()\n",
        "total_row = pd.DataFrame([['Total', total_vacancies]], columns=['region', 'vacancies_count'])\n",
        "df_final = pd.concat([df_filtered, total_row], ignore_index=True)\n",
        "\n",
        "# Вывод результата\n",
        "# print(df_final)\n",
        "\n"
      ]
    },
    {
      "cell_type": "code",
      "execution_count": null,
      "id": "5a0e32a4-e68a-4365-8a39-2fe24c542c36",
      "metadata": {
        "id": "5a0e32a4-e68a-4365-8a39-2fe24c542c36"
      },
      "outputs": [],
      "source": [
        "# Total            485.0"
      ]
    },
    {
      "cell_type": "code",
      "execution_count": null,
      "id": "ttPhiO1rsvPq",
      "metadata": {
        "id": "ttPhiO1rsvPq"
      },
      "outputs": [],
      "source": [
        "# Количество строк 17 (изначально был невнимателен и не обратил внимание что всего 17, долго искал где ошибка)"
      ]
    },
    {
      "cell_type": "markdown",
      "id": "04966e40-3bc3-4dc8-9ba2-e80580ce3abc",
      "metadata": {
        "id": "04966e40-3bc3-4dc8-9ba2-e80580ce3abc"
      },
      "source": [
        "***"
      ]
    },
    {
      "cell_type": "code",
      "execution_count": null,
      "id": "aGGyER-yt4SR",
      "metadata": {
        "id": "aGGyER-yt4SR"
      },
      "outputs": [],
      "source": [
        "# Компания Яндекс является лидером по вакансиями в нашей БД, при этом существует некорректно заполненный или \n",
        "# спроектированный участок в части регионов (Россия). У значительной части работодателей (~8.5 тыс.) не \n",
        "# указана сфера деятельности. Разработчиков ПО не так много, что странно, возможно существует несколько вариантов \n",
        "# нахвания похожего по смыслу."
      ]
    },
    {
      "cell_type": "markdown",
      "id": "b1ef156a-efcb-49ce-bb23-90763e7f35b2",
      "metadata": {
        "id": "b1ef156a-efcb-49ce-bb23-90763e7f35b2",
        "tags": []
      },
      "source": [
        "# Юнит 6. Предметный анализ"
      ]
    },
    {
      "cell_type": "markdown",
      "id": "b9cd50a0-992d-4988-8463-2b2b1c4629b4",
      "metadata": {
        "id": "b9cd50a0-992d-4988-8463-2b2b1c4629b4"
      },
      "source": [
        "1. Сколько вакансий имеет отношение к данным?\n",
        "\n",
        "Считаем, что вакансия имеет отношение к данным, если в её названии содержатся слова 'data' или 'данн'.\n",
        "\n",
        "*Подсказка: Обратите внимание, что названия вакансий могут быть написаны в любом регистре.* \n"
      ]
    },
    {
      "cell_type": "code",
      "execution_count": null,
      "id": "54ab0e50-c0f1-47cc-a54b-bc5c8bc363f9",
      "metadata": {
        "id": "54ab0e50-c0f1-47cc-a54b-bc5c8bc363f9"
      },
      "outputs": [
        {
          "name": "stderr",
          "output_type": "stream",
          "text": [
            "C:\\TEMP\\ipykernel_28816\\1050563794.py:6: UserWarning: pandas only supports SQLAlchemy connectable (engine/connection) or database string URI or sqlite3 DBAPI2 connection. Other DBAPI2 objects are not tested. Please consider using SQLAlchemy.\n",
            "  df_vacancies = pd.read_sql_query(query_5_7, connection)\n"
          ]
        }
      ],
      "source": [
        "query_5_7 = '''\n",
        "SELECT name\n",
        "FROM vacancies\n",
        "'''\n",
        "\n",
        "df_vacancies = pd.read_sql_query(query_5_7, connection)\n",
        "\n",
        "data_related_vacancies = df_vacancies[df_vacancies['name'].str.contains('data|данн.', case=False, regex=True)]\n",
        "\n",
        "data_related_vacancies_count = data_related_vacancies.shape[0]\n",
        "\n",
        "# data_related_vacancies_count\n"
      ]
    },
    {
      "cell_type": "code",
      "execution_count": null,
      "id": "9F1meAqsuUjd",
      "metadata": {
        "id": "9F1meAqsuUjd"
      },
      "outputs": [],
      "source": [
        "# 1771"
      ]
    },
    {
      "cell_type": "markdown",
      "id": "4dea20cb-a36b-474a-a0b9-e08e8e3857a5",
      "metadata": {
        "id": "4dea20cb-a36b-474a-a0b9-e08e8e3857a5"
      },
      "source": [
        "2. Сколько есть подходящих вакансий для начинающего дата-сайентиста? \n",
        "Будем считать вакансиями для дата-сайентистов такие, в названии которых есть хотя бы одно из следующих сочетаний:\n",
        "* 'data scientist'\n",
        "* 'data science'\n",
        "* 'исследователь данных'\n",
        "* 'ML' (здесь не нужно брать вакансии по HTML)\n",
        "* 'machine learning'\n",
        "* 'машинн%обучен%'\n",
        "\n",
        "** В следующих заданиях мы продолжим работать с вакансиями по этому условию.*\n",
        "\n",
        "Считаем вакансиями для специалистов уровня Junior следующие:\n",
        "* в названии есть слово 'junior' *или*\n",
        "* требуемый опыт — Нет опыта *или*\n",
        "* тип трудоустройства — Стажировка.\n",
        " "
      ]
    },
    {
      "cell_type": "code",
      "execution_count": null,
      "id": "9c61b3c0-bb66-46c9-ae1e-81d3f5752b4a",
      "metadata": {
        "id": "9c61b3c0-bb66-46c9-ae1e-81d3f5752b4a"
      },
      "outputs": [
        {
          "name": "stderr",
          "output_type": "stream",
          "text": [
            "C:\\TEMP\\ipykernel_28816\\3953009443.py:21: UserWarning: pandas only supports SQLAlchemy connectable (engine/connection) or database string URI or sqlite3 DBAPI2 connection. Other DBAPI2 objects are not tested. Please consider using SQLAlchemy.\n",
            "  df_vacancies_junior = pd.read_sql_query(query_6_2, connection)\n"
          ]
        },
        {
          "data": {
            "text/plain": [
              "51"
            ]
          },
          "execution_count": 83,
          "metadata": {},
          "output_type": "execute_result"
        }
      ],
      "source": [
        "query_6_2 = '''\n",
        "SELECT name\n",
        "FROM vacancies\n",
        "WHERE \n",
        "    (\n",
        "        lower(name) LIKE '%data scientist%' OR\n",
        "        lower(name) LIKE '%data science%' OR\n",
        "        lower(name) LIKE '%исследователь данных%' OR\n",
        "        lower(name) LIKE '%machine learning%' OR\n",
        "        lower(name) LIKE '%машинн%обучен%' OR\n",
        "        (lower(name) LIKE '%ml%' AND lower(name) NOT LIKE '%html%')\n",
        "    )\n",
        "    AND\n",
        "    (\n",
        "        lower(name) LIKE '%junior%' OR\n",
        "        lower(experience) LIKE '%нет опыта%' OR\n",
        "        lower(employment) LIKE '%стажировка%'\n",
        "    )\n",
        "'''\n",
        "\n",
        "df_vacancies_junior = pd.read_sql_query(query_6_2, connection)\n",
        "\n",
        "junior_data_science_vacancies_count = df_vacancies_junior.shape[0]\n",
        "\n",
        "# junior_data_science_vacancies_count"
      ]
    },
    {
      "cell_type": "code",
      "execution_count": null,
      "id": "ZNM-LLYuu1dj",
      "metadata": {
        "id": "ZNM-LLYuu1dj"
      },
      "outputs": [],
      "source": [
        "# 51"
      ]
    },
    {
      "cell_type": "markdown",
      "id": "eedceb80-c5ca-480e-b27a-278dfb8b4438",
      "metadata": {
        "id": "eedceb80-c5ca-480e-b27a-278dfb8b4438"
      },
      "source": [
        "3. Сколько есть вакансий для DS, в которых в качестве ключевого навыка указан SQL или postgres?\n",
        "\n",
        "** Критерии для отнесения вакансии к DS указаны в предыдущем задании.*"
      ]
    },
    {
      "cell_type": "code",
      "execution_count": null,
      "id": "69621713-0cc5-4f1b-a1d7-bb144fa6148c",
      "metadata": {
        "id": "69621713-0cc5-4f1b-a1d7-bb144fa6148c"
      },
      "outputs": [
        {
          "name": "stderr",
          "output_type": "stream",
          "text": [
            "C:\\TEMP\\ipykernel_28816\\2700480058.py:14: UserWarning: pandas only supports SQLAlchemy connectable (engine/connection) or database string URI or sqlite3 DBAPI2 connection. Other DBAPI2 objects are not tested. Please consider using SQLAlchemy.\n",
            "  df_ds_skills = pd.read_sql_query(query_3_19, connection)\n"
          ]
        },
        {
          "data": {
            "text/html": [
              "<div>\n",
              "<style scoped>\n",
              "    .dataframe tbody tr th:only-of-type {\n",
              "        vertical-align: middle;\n",
              "    }\n",
              "\n",
              "    .dataframe tbody tr th {\n",
              "        vertical-align: top;\n",
              "    }\n",
              "\n",
              "    .dataframe thead th {\n",
              "        text-align: right;\n",
              "    }\n",
              "</style>\n",
              "<table border=\"1\" class=\"dataframe\">\n",
              "  <thead>\n",
              "    <tr style=\"text-align: right;\">\n",
              "      <th></th>\n",
              "      <th>data_scientist_count_skills</th>\n",
              "    </tr>\n",
              "  </thead>\n",
              "  <tbody>\n",
              "    <tr>\n",
              "      <th>0</th>\n",
              "      <td>201</td>\n",
              "    </tr>\n",
              "  </tbody>\n",
              "</table>\n",
              "</div>"
            ],
            "text/plain": [
              "   data_scientist_count_skills\n",
              "0                          201"
            ]
          },
          "execution_count": 94,
          "metadata": {},
          "output_type": "execute_result"
        }
      ],
      "source": [
        "query_3_19 = '''\n",
        "SELECT COUNT(*) as data_scientist_count_skills\n",
        "FROM vacancies\n",
        "WHERE (\n",
        "        LOWER(name) LIKE '%data scientist%' \n",
        "        OR LOWER(name) LIKE '%data science%'\n",
        "        OR LOWER(name) LIKE '%исследователь данных%'\n",
        "        OR LOWER(name) LIKE '%machine learning%'\n",
        "        OR LOWER(name) LIKE '%машинн%обучен%'\n",
        "        OR (name LIKE '%ML%' AND LOWER(name) NOT LIKE '%html%')\n",
        "      )\n",
        "      AND (LOWER(key_skills) LIKE '%sql%' OR LOWER(key_skills) LIKE '%postgres%')\n",
        "'''\n",
        "df_ds_skills = pd.read_sql_query(query_3_19, connection)\n",
        "# df_ds_skills\n"
      ]
    },
    {
      "cell_type": "code",
      "execution_count": null,
      "id": "alA8WEAAvGdf",
      "metadata": {
        "id": "alA8WEAAvGdf"
      },
      "outputs": [],
      "source": [
        "# 201"
      ]
    },
    {
      "cell_type": "markdown",
      "id": "1be1e9c6-37cf-4a5f-bfeb-04cab799dc80",
      "metadata": {
        "id": "1be1e9c6-37cf-4a5f-bfeb-04cab799dc80"
      },
      "source": [
        "4. Проверьте, насколько популярен Python в требованиях работодателей к DS.Для этого вычислите количество вакансий, в которых в качестве ключевого навыка указан Python.\n",
        "\n",
        "** Это можно сделать помощью запроса, аналогичного предыдущему.*"
      ]
    },
    {
      "cell_type": "code",
      "execution_count": null,
      "id": "0036a355-9ccf-4564-8b01-73d8194297e7",
      "metadata": {
        "id": "0036a355-9ccf-4564-8b01-73d8194297e7"
      },
      "outputs": [
        {
          "name": "stderr",
          "output_type": "stream",
          "text": [
            "C:\\TEMP\\ipykernel_28816\\2849715551.py:15: UserWarning: pandas only supports SQLAlchemy connectable (engine/connection) or database string URI or sqlite3 DBAPI2 connection. Other DBAPI2 objects are not tested. Please consider using SQLAlchemy.\n",
            "  df_python_in_ds = pd.read_sql_query(query_python_in_ds, connection)\n"
          ]
        },
        {
          "data": {
            "text/plain": [
              "351"
            ]
          },
          "execution_count": 98,
          "metadata": {},
          "output_type": "execute_result"
        }
      ],
      "source": [
        "query_python_in_ds = '''\n",
        "SELECT COUNT(*) as python_ds_vacancies_count\n",
        "FROM vacancies\n",
        "WHERE (\n",
        "        LOWER(name) LIKE '%data scientist%' \n",
        "        OR LOWER(name) LIKE '%data science%'\n",
        "        OR LOWER(name) LIKE '%исследователь данных%'\n",
        "        OR LOWER(name) LIKE '%machine learning%'\n",
        "        OR LOWER(name) LIKE '%машинн%обучен%'\n",
        "        OR (name LIKE '%ML%' AND LOWER(name) NOT LIKE '%html%')\n",
        "      )\n",
        "      AND LOWER(key_skills) LIKE '%python%'\n",
        "'''\n",
        "\n",
        "df_python_in_ds = pd.read_sql_query(query_python_in_ds, connection)\n",
        "python_ds_vacancies_count = df_python_in_ds.loc[0, 'python_ds_vacancies_count']\n",
        "\n",
        "# python_ds_vacancies_count\n"
      ]
    },
    {
      "cell_type": "code",
      "execution_count": null,
      "id": "1i-5WyucvQ6v",
      "metadata": {
        "id": "1i-5WyucvQ6v"
      },
      "outputs": [],
      "source": [
        "# 351"
      ]
    },
    {
      "cell_type": "markdown",
      "id": "ec3c8db7-fa21-4a41-a994-1af63742a642",
      "metadata": {
        "id": "ec3c8db7-fa21-4a41-a994-1af63742a642"
      },
      "source": [
        "5. Сколько ключевых навыков в среднем указывают в вакансиях для DS?\n",
        "Ответ округлите до двух знаков после точки-разделителя."
      ]
    },
    {
      "cell_type": "code",
      "execution_count": null,
      "id": "949132bc-d5b6-4611-8218-0b9a504d74f4",
      "metadata": {
        "id": "949132bc-d5b6-4611-8218-0b9a504d74f4"
      },
      "outputs": [
        {
          "name": "stderr",
          "output_type": "stream",
          "text": [
            "C:\\TEMP\\ipykernel_28816\\3220465577.py:14: UserWarning: pandas only supports SQLAlchemy connectable (engine/connection) or database string URI or sqlite3 DBAPI2 connection. Other DBAPI2 objects are not tested. Please consider using SQLAlchemy.\n",
            "  df_avg_skills_count = pd.read_sql_query(query_avg_skills_count, connection)\n"
          ]
        },
        {
          "name": "stdout",
          "output_type": "stream",
          "text": [
            "Среднее количество ключевых навыков в вакансиях для DS: 6.41\n"
          ]
        }
      ],
      "source": [
        "query_avg_skills_count = '''\n",
        "SELECT AVG(ARRAY_LENGTH(STRING_TO_ARRAY(key_skills, E'\\t'), 1)) AS average_skills_count\n",
        "FROM vacancies\n",
        "WHERE \n",
        "    LOWER(name) LIKE '%data scientist%' \n",
        "    OR LOWER(name) LIKE '%data science%'\n",
        "    OR LOWER(name) LIKE '%исследователь данных%'\n",
        "    OR LOWER(name) LIKE '%machine learning%'\n",
        "    OR LOWER(name) LIKE '%машинн%обучен%'\n",
        "    OR (name LIKE '%ML%' AND LOWER(name) NOT LIKE '%html%');\n",
        "'''\n",
        "\n",
        "df_avg_skills_count = pd.read_sql_query(query_avg_skills_count, connection)\n",
        "\n",
        "average_skills_count = df_avg_skills_count['average_skills_count'].iloc[0]\n",
        "print(f\"Среднее количество ключевых навыков в вакансиях для DS: {average_skills_count:.2f}\")\n"
      ]
    },
    {
      "cell_type": "code",
      "execution_count": null,
      "id": "a3V24Tvmviqk",
      "metadata": {
        "id": "a3V24Tvmviqk"
      },
      "outputs": [],
      "source": [
        "# 6.41"
      ]
    },
    {
      "cell_type": "markdown",
      "id": "1041c17a-ca8f-4543-a0ca-32778914fb00",
      "metadata": {
        "id": "1041c17a-ca8f-4543-a0ca-32778914fb00"
      },
      "source": [
        "6. Напишите запрос, позволяющий вычислить, какую зарплату для DS в **среднем** указывают для каждого типа требуемого опыта (уникальное значение из поля *experience*). \n",
        "\n",
        "При решении задачи примите во внимание следующее:\n",
        "1. Рассматриваем только вакансии, у которых заполнено хотя бы одно из двух полей с зарплатой.\n",
        "2. Если заполнены оба поля с зарплатой, то считаем зарплату по каждой вакансии как сумму двух полей, делённую на 2. Если заполнено только одно из полей, то его и считаем зарплатой по вакансии.\n",
        "3. Если в расчётах участвует null, в результате он тоже даст null (посмотрите, что возвращает запрос select 1 + null). Чтобы избежать этой ситуацию, мы воспользуемся функцией [coalesce](https://postgrespro.ru/docs/postgresql/9.5/functions-conditional#functions-coalesce-nvl-ifnull), которая заменит null на значение, которое мы передадим. Например, посмотрите, что возвращает запрос `select 1 + coalesce(null, 0)`\n",
        "\n",
        "Выясните, на какую зарплату в среднем может рассчитывать дата-сайентист с опытом работы от 3 до 6 лет. Результат округлите до целого числа. "
      ]
    },
    {
      "cell_type": "code",
      "execution_count": null,
      "id": "6a743d39-5204-48d3-8271-b9f88e68d40e",
      "metadata": {
        "id": "6a743d39-5204-48d3-8271-b9f88e68d40e"
      },
      "outputs": [
        {
          "name": "stderr",
          "output_type": "stream",
          "text": [
            "C:\\TEMP\\ipykernel_28816\\2584984799.py:36: UserWarning: pandas only supports SQLAlchemy connectable (engine/connection) or database string URI or sqlite3 DBAPI2 connection. Other DBAPI2 objects are not tested. Please consider using SQLAlchemy.\n",
            "  df_avg_salary_by_experience = pd.read_sql_query(query_avg_salary_by_experience, connection)\n"
          ]
        },
        {
          "name": "stdout",
          "output_type": "stream",
          "text": [
            "           experience  Средняя зарплата в DS\n",
            "0       От 3 до 6 лет               243115.0\n",
            "1           Нет опыта                74643.0\n",
            "2  От 1 года до 3 лет               139675.0\n"
          ]
        }
      ],
      "source": [
        "# SQL запрос для вычисления средней зарплаты для каждого типа опыта\n",
        "query_avg_salary_by_experience = '''\n",
        "WITH avg_salary AS (\n",
        "    SELECT \n",
        "        experience,\n",
        "        AVG(\n",
        "            COALESCE((salary_from + salary_to) / 2, salary_from, salary_to)\n",
        "        ) AS result\n",
        "    FROM \n",
        "        vacancies\n",
        "    WHERE \n",
        "        (salary_from IS NOT NULL OR salary_to IS NOT NULL) \n",
        "        AND (\n",
        "            name ILIKE '%data scientist%'\n",
        "            OR name ILIKE '%data science%'\n",
        "            OR name ILIKE '%исследователь данных%'\n",
        "            OR name ILIKE '%machine learning%'\n",
        "            OR name ILIKE '%машинн%обучен%'\n",
        "            OR (name NOT ILIKE '%HTML%' AND name LIKE '%ML%')\n",
        "        )\n",
        "    GROUP BY \n",
        "        1\n",
        ")\n",
        "\n",
        "SELECT\n",
        "    experience,\n",
        "    ROUND(AVG(result), 0) AS \"Средняя зарплата в DS\"\n",
        "FROM \n",
        "    avg_salary\n",
        "GROUP BY \n",
        "    1;\n",
        "\n",
        "'''\n",
        "\n",
        "# Выполнение запроса и чтение результата\n",
        "df_avg_salary_by_experience = pd.read_sql_query(query_avg_salary_by_experience, connection)\n",
        "\n",
        "# Вывод результата\n",
        "# print(df_avg_salary_by_experience)\n"
      ]
    },
    {
      "cell_type": "code",
      "execution_count": null,
      "id": "aRIJ0mZEwU1_",
      "metadata": {
        "id": "aRIJ0mZEwU1_"
      },
      "outputs": [],
      "source": [
        "# 243115"
      ]
    },
    {
      "cell_type": "markdown",
      "id": "6a7892b4-4113-4746-adce-18aa2844f18e",
      "metadata": {
        "id": "6a7892b4-4113-4746-adce-18aa2844f18e"
      },
      "source": [
        "***"
      ]
    },
    {
      "cell_type": "code",
      "execution_count": null,
      "id": "UjLWUptVwY1o",
      "metadata": {
        "id": "UjLWUptVwY1o"
      },
      "outputs": [],
      "source": [
        "# В рамках предметного анализа, мы исследовали вакансии, которые имеют прямое или косвенное отношение к данным. \n",
        "# Получилось 1771 позиций (что является около 3.6% от общего количества вакансий), из которых для начинающего \n",
        "# дата-сайентиста подходит только 51 позиция. Промежуточный вывод - не густо, однако возможно, мы можем расширить \n",
        "# список потенциальных работ за счет добавления других позиций (таких как разработчик, или требование по языку/\n",
        "# инструменту). Кроме того, проведен анализ, насколько популярны Python и SQL при проверке ключевых навыков. \n",
        "# По этой части какого-то однозначного вывода сделать не могу кроме трактовки полученных цифр - 351 для Python \n",
        "# и 51 для SQL и postgres (причем это уже для Data Scinece в целом, а не для позиций джуниора). Следовательно \n",
        "# надо расширять свои знания дальше, чтобы по скиллам и знаниям попасть в общую выборку, а не только на \n",
        "# позиции начинающего аналитика."
      ]
    },
    {
      "cell_type": "markdown",
      "id": "c0ED6fh7wiBT",
      "metadata": {
        "id": "c0ED6fh7wiBT"
      },
      "source": [
        "# Общий вывод по проекту"
      ]
    },
    {
      "cell_type": "code",
      "execution_count": null,
      "id": "h9B3BL-wwj18",
      "metadata": {
        "id": "h9B3BL-wwj18"
      },
      "outputs": [],
      "source": [
        "# 1. Объем базы данных: База данных содержит в себе 49 197 вакансий, распределенных по 23 501 работодателю. \n",
        "# Это обширный набор данных, который позволяет нам провести разнообразный анализ состояния рынка труда. \n",
        "# 2. География вакансий: Среди городов-лидеров по количеству вакансий встречаются как столицы и бывшие столицы,\n",
        "# так и крупные региональные центры. Например, город Новосибирск выделяется среди других. Важно обратить внимание на \n",
        "# корректность заполнения данных по регионам для дальнейшего анализа (проверка на аномалии, не входило в рамках данного \n",
        "# проекта) \n",
        "# 3. Зарплатные ожидания: Только у половины вакансий указана заработная плата, что говорит о широком диапазоне\n",
        "# возможных зарплатных предложений. Видимое увеличение удаленной работы на полную занятость, возможно, связано с\n",
        "# эффектами пандемии COVID-19. \n",
        "# 4. Лидеры рынка: Компания Яндекс является лидером по количеству вакансий в базе данных. Однако стоит отметить, что \n",
        "# существуют некорректно заполненные или спроектированные части данных, например, в части регионов (присутствует значение\n",
        "# \"Россия\"). \n",
        "# 5. Анализ вакансий: Исследовано 1771 вакансий, связанных с данными, из которых только 51 позиция подходит для\n",
        "# начинающего дата-сайентиста. Это указывает на относительную недостаточность предложений для новичков в данной области. \n",
        "# Популярность навыков: Python является наиболее популярным языком программирования среди ключевых навыков, \n",
        "# требуемых для должности дата-сайентиста. SQL и Postgres также востребованы, однако их требования значительно меньше\n",
        "# по сравнению с Python.\n",
        "# NB! Для получения широких возможностей на рынке труда в сфере анализа данных рекомендуется расширять знания и навыки,\n",
        "# чтобы соответствовать требованиям не только позиций начинающего аналитика, но и более опытных специалистов."
      ]
    }
  ],
  "metadata": {
    "colab": {
      "collapsed_sections": [
        "8d62a9f3-f64e-4fe7-bdac-c4dffa16155e"
      ],
      "provenance": []
    },
    "kernelspec": {
      "display_name": "Python 3 (ipykernel)",
      "language": "python",
      "name": "python3"
    },
    "language_info": {
      "codemirror_mode": {
        "name": "ipython",
        "version": 3
      },
      "file_extension": ".py",
      "mimetype": "text/x-python",
      "name": "python",
      "nbconvert_exporter": "python",
      "pygments_lexer": "ipython3",
      "version": "3.12.0"
    }
  },
  "nbformat": 4,
  "nbformat_minor": 5
}
