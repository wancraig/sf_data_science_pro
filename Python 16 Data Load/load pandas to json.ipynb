{
 "cells": [
  {
   "cell_type": "code",
   "execution_count": 3,
   "metadata": {},
   "outputs": [
    {
     "data": {
      "text/html": [
       "<div>\n",
       "<style scoped>\n",
       "    .dataframe tbody tr th:only-of-type {\n",
       "        vertical-align: middle;\n",
       "    }\n",
       "\n",
       "    .dataframe tbody tr th {\n",
       "        vertical-align: top;\n",
       "    }\n",
       "\n",
       "    .dataframe thead th {\n",
       "        text-align: right;\n",
       "    }\n",
       "</style>\n",
       "<table border=\"1\" class=\"dataframe\">\n",
       "  <thead>\n",
       "    <tr style=\"text-align: right;\">\n",
       "      <th></th>\n",
       "      <th>id</th>\n",
       "      <th>cuisine</th>\n",
       "      <th>ingredients</th>\n",
       "    </tr>\n",
       "  </thead>\n",
       "  <tbody>\n",
       "    <tr>\n",
       "      <th>0</th>\n",
       "      <td>10259</td>\n",
       "      <td>greek</td>\n",
       "      <td>['romaine lettuce', 'black olives', 'grape tom...</td>\n",
       "    </tr>\n",
       "    <tr>\n",
       "      <th>1</th>\n",
       "      <td>25693</td>\n",
       "      <td>southern_us</td>\n",
       "      <td>['plain flour', 'ground pepper', 'salt', 'toma...</td>\n",
       "    </tr>\n",
       "    <tr>\n",
       "      <th>2</th>\n",
       "      <td>20130</td>\n",
       "      <td>filipino</td>\n",
       "      <td>['eggs', 'pepper', 'salt', 'mayonaise', 'cooki...</td>\n",
       "    </tr>\n",
       "    <tr>\n",
       "      <th>3</th>\n",
       "      <td>22213</td>\n",
       "      <td>indian</td>\n",
       "      <td>['water', 'vegetable oil', 'wheat', 'salt']</td>\n",
       "    </tr>\n",
       "    <tr>\n",
       "      <th>4</th>\n",
       "      <td>13162</td>\n",
       "      <td>indian</td>\n",
       "      <td>['black pepper', 'shallots', 'cornflour', 'cay...</td>\n",
       "    </tr>\n",
       "  </tbody>\n",
       "</table>\n",
       "</div>"
      ],
      "text/plain": [
       "      id      cuisine                                        ingredients\n",
       "0  10259        greek  ['romaine lettuce', 'black olives', 'grape tom...\n",
       "1  25693  southern_us  ['plain flour', 'ground pepper', 'salt', 'toma...\n",
       "2  20130     filipino  ['eggs', 'pepper', 'salt', 'mayonaise', 'cooki...\n",
       "3  22213       indian        ['water', 'vegetable oil', 'wheat', 'salt']\n",
       "4  13162       indian  ['black pepper', 'shallots', 'cornflour', 'cay..."
      ]
     },
     "execution_count": 3,
     "metadata": {},
     "output_type": "execute_result"
    }
   ],
   "source": [
    "import pandas as pd\n",
    "# Создаём DataFrame, читаем данные из файла в переменную df\n",
    "df = pd.read_csv('data/recipes.csv')\n",
    "\n",
    "# Теперь, используя только данные из этого файла, нам нужно в точности воссоздать структуру исходного JSON-файла.\n",
    "# Мы помним, что после десериализации данные представляли собой список, состоящий из словарей. В каждом словаре\n",
    "# хранилась информация о рецепте одного блюда. Каждый словарь состоял из трёх пар \"ключ-значение\".\n",
    "# Первая пара содержала название кухни, к которой относилось блюдо, вторая — id блюда, и третья — список ингредиентов\n",
    "# входящих в состав блюда.\n",
    "df.head()"
   ]
  },
  {
   "cell_type": "code",
   "execution_count": 6,
   "metadata": {},
   "outputs": [],
   "source": [
    "# Создание списка ИД всех блюд, только уникальные значения\n",
    "ids = df[\"id\"].unique().tolist()"
   ]
  },
  {
   "cell_type": "code",
   "execution_count": 7,
   "metadata": {},
   "outputs": [
    {
     "name": "stdout",
     "output_type": "stream",
     "text": [
      "[]\n"
     ]
    }
   ],
   "source": [
    "# Создание списка ингредиентов всех блюд\n",
    "ingredients=list(df.columns)[3:]\n",
    "\n",
    "print(ingredients)"
   ]
  },
  {
   "cell_type": "code",
   "execution_count": 12,
   "metadata": {},
   "outputs": [],
   "source": [
    "# Определяем имя функции и передаваемые аргументы\n",
    "def make_list(row): \n",
    "    # Создаем пустой список ингредиентов текущего блюда\n",
    "    ingredient_list=[] \n",
    "    # Последовательно перебираем ингредиенты из реестра\n",
    "    for ingredient in ingredients: \n",
    "        # Если текущий ингредиент входит в состав текущего блюда\n",
    "        if row[ingredient].item()==1: \n",
    "            # Добавляем ингредиент в список ингредиентов текущего блюда\n",
    "            ingredient_list.append(ingredient) \n",
    "    # Возвращаем сформированный список ингредиентов\n",
    "    return ingredient_list\n",
    "# Создаём пустой список для хранения итоговой структуры\n",
    "new_recipes = [] \n",
    "# Организуем цикл с параметром current_id\n",
    "for current_id in ids: \n",
    "    # Получаем значение соответствующей кухни, применив фильтр по текущему значению параметра цикла к DataFrame;\n",
    "    cuisine = df[df['id'] == current_id]['cuisine'].iloc[0] \n",
    "    # Получаем перечень ингредиентов, входящих в состав текущего блюда\n",
    "    current_ingredients = make_list(df[df['id'] == current_id]) \n",
    "    # Создаём текущий словарь\n",
    "    current_recipe = {'cuisine': cuisine, 'id': int(current_id), 'ingredients': current_ingredients} \n",
    "    # Добавляем созданный словарь к списку\n",
    "    new_recipes.append(current_recipe)"
   ]
  },
  {
   "cell_type": "code",
   "execution_count": null,
   "metadata": {},
   "outputs": [],
   "source": [
    "# Импорт модуля json\n",
    "import json \n",
    "# Функция dumps() модуля json сериализирует объект Python в строку формата JSON. \n",
    "new_recipes = json.dumps(new_recipes) \n",
    "\n",
    "# Откроем файл new_recipes.json для записи\n",
    "with open(\"data/new_recipes.json\", \"w\") as write_file: \n",
    "    # Записываем содержимое подготовленные данные в файл\n",
    "    write_file.write(new_recipes)"
   ]
  }
 ],
 "metadata": {
  "kernelspec": {
   "display_name": "Python 3",
   "language": "python",
   "name": "python3"
  },
  "language_info": {
   "codemirror_mode": {
    "name": "ipython",
    "version": 3
   },
   "file_extension": ".py",
   "mimetype": "text/x-python",
   "name": "python",
   "nbconvert_exporter": "python",
   "pygments_lexer": "ipython3",
   "version": "3.12.0"
  }
 },
 "nbformat": 4,
 "nbformat_minor": 2
}
