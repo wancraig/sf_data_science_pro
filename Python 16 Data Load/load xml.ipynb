{
 "cells": [
  {
   "cell_type": "code",
   "execution_count": 10,
   "metadata": {},
   "outputs": [
    {
     "data": {
      "text/plain": [
       "<Element 'menu' at 0x0000024E01EF4590>"
      ]
     },
     "metadata": {},
     "output_type": "display_data"
    }
   ],
   "source": [
    "# Импортируем модуль ElementTree\n",
    "import xml.etree.ElementTree as ET\n",
    "\n",
    "tree = ET.parse('data/menu.xml')\n",
    "\n",
    "root = tree.getroot()\n",
    "display(root)"
   ]
  },
  {
   "cell_type": "code",
   "execution_count": 5,
   "metadata": {},
   "outputs": [
    {
     "data": {
      "text/plain": [
       "[<Element 'dish' at 0x0000024E01EEB2E0>,\n",
       " <Element 'dish' at 0x0000024E01EEB4C0>]"
      ]
     },
     "metadata": {},
     "output_type": "display_data"
    }
   ],
   "source": [
    "# Смотрим список потомков\n",
    "display(list(root))"
   ]
  },
  {
   "cell_type": "code",
   "execution_count": 6,
   "metadata": {},
   "outputs": [
    {
     "data": {
      "text/plain": [
       "[<Element 'price' at 0x0000024E01EEB510>,\n",
       " <Element 'weight' at 0x0000024E01EEB560>,\n",
       " <Element 'class' at 0x0000024E01EEB5B0>]"
      ]
     },
     "metadata": {},
     "output_type": "display_data"
    }
   ],
   "source": [
    "display(list(root[1]))"
   ]
  },
  {
   "cell_type": "code",
   "execution_count": 7,
   "metadata": {},
   "outputs": [
    {
     "data": {
      "text/plain": [
       "{'name': 'Кура'}"
      ]
     },
     "metadata": {},
     "output_type": "display_data"
    }
   ],
   "source": [
    "display(root[0].attrib)"
   ]
  },
  {
   "cell_type": "code",
   "execution_count": 9,
   "metadata": {},
   "outputs": [
    {
     "data": {
      "text/plain": [
       "<Element 'price' at 0x0000024E01EEB330>"
      ]
     },
     "metadata": {},
     "output_type": "display_data"
    },
    {
     "data": {
      "text/plain": [
       "'40'"
      ]
     },
     "metadata": {},
     "output_type": "display_data"
    }
   ],
   "source": [
    "display(root[0][0])\n",
    "display(root[0][0].text)"
   ]
  },
  {
   "cell_type": "code",
   "execution_count": 12,
   "metadata": {},
   "outputs": [
    {
     "data": {
      "text/plain": [
       "'class'"
      ]
     },
     "metadata": {},
     "output_type": "display_data"
    }
   ],
   "source": [
    "# Если вы хотите прочитать наименование тега конкретного узла, необходимо использовать tag\n",
    "display(root[0][2].tag)"
   ]
  },
  {
   "cell_type": "code",
   "execution_count": 13,
   "metadata": {},
   "outputs": [
    {
     "name": "stdout",
     "output_type": "stream",
     "text": [
      "Кура price 40\n",
      "Кура weight 300\n",
      "Кура class Мясо\n",
      "\n",
      "Греча price 20\n",
      "Греча weight 200\n",
      "Греча class Крупа\n",
      "\n"
     ]
    }
   ],
   "source": [
    "for dish in root:\n",
    "    for param in dish:\n",
    "        print(dish.attrib['name'], param.tag, param.text)\n",
    "    print()\n",
    "\n",
    "#В первом (внешнем) цикле перебираем потомков корня дерева (root). Потомки перебираются последовательно при помощи переменной\n",
    "# dish. Это отдельные блюда из меню. Во втором (вложенном) цикле аналогичным образом перебираем потомков каждого блюда.\n",
    "# Этими потомками являются параметры блюда — его цена (price), вес (weight) и класс (class). После этого выводим на экран\n",
    "# название блюда (значение атрибута name), название очередного параметра (tag) и его значение (text). Дополнительная\n",
    "# функция print() в цикле верхнего уровня предназначена для организации более удобного восприятия информации — между\n",
    "# отдельными блюдами будет выведена пустая строка."
   ]
  }
 ],
 "metadata": {
  "kernelspec": {
   "display_name": "Python 3",
   "language": "python",
   "name": "python3"
  },
  "language_info": {
   "codemirror_mode": {
    "name": "ipython",
    "version": 3
   },
   "file_extension": ".py",
   "mimetype": "text/x-python",
   "name": "python",
   "nbconvert_exporter": "python",
   "pygments_lexer": "ipython3",
   "version": "3.12.0"
  }
 },
 "nbformat": 4,
 "nbformat_minor": 2
}
