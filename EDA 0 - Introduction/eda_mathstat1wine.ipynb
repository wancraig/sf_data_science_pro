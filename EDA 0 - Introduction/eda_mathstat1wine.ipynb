{
 "cells": [
  {
   "cell_type": "code",
   "execution_count": 19,
   "metadata": {},
   "outputs": [
    {
     "name": "stdout",
     "output_type": "stream",
     "text": [
      "<class 'pandas.core.frame.DataFrame'>\n",
      "RangeIndex: 129971 entries, 0 to 129970\n",
      "Data columns (total 13 columns):\n",
      " #   Column                 Non-Null Count   Dtype  \n",
      "---  ------                 --------------   -----  \n",
      " 0   Unnamed: 0             129971 non-null  int64  \n",
      " 1   country                129908 non-null  object \n",
      " 2   description            129971 non-null  object \n",
      " 3   designation            129971 non-null  object \n",
      " 4   points                 129971 non-null  int64  \n",
      " 5   price                  129971 non-null  float64\n",
      " 6   province               129908 non-null  object \n",
      " 7   region_1               129971 non-null  object \n",
      " 8   taster_name            129971 non-null  object \n",
      " 9   taster_twitter_handle  129971 non-null  object \n",
      " 10  title                  129971 non-null  object \n",
      " 11  variety                129970 non-null  object \n",
      " 12  winery                 129971 non-null  object \n",
      "dtypes: float64(1), int64(2), object(10)\n",
      "memory usage: 12.9+ MB\n"
     ]
    }
   ],
   "source": [
    "import pandas as pd\n",
    "\n",
    "data = pd.read_csv(\"wine_cleared.csv\")\n",
    "data.info()"
   ]
  },
  {
   "cell_type": "code",
   "execution_count": 6,
   "metadata": {},
   "outputs": [
    {
     "data": {
      "text/plain": [
       "80"
      ]
     },
     "execution_count": 6,
     "metadata": {},
     "output_type": "execute_result"
    }
   ],
   "source": [
    "min_points = data['points'].min()\n",
    "min_points"
   ]
  },
  {
   "cell_type": "code",
   "execution_count": 8,
   "metadata": {},
   "outputs": [
    {
     "data": {
      "text/plain": [
       "4.0"
      ]
     },
     "execution_count": 8,
     "metadata": {},
     "output_type": "execute_result"
    }
   ],
   "source": [
    "min_price = data[\"price\"].min()\n",
    "min_price"
   ]
  },
  {
   "cell_type": "code",
   "execution_count": 9,
   "metadata": {},
   "outputs": [],
   "source": [
    "import statistics"
   ]
  },
  {
   "cell_type": "code",
   "execution_count": 10,
   "metadata": {},
   "outputs": [
    {
     "data": {
      "text/plain": [
       "35.363389129985535"
      ]
     },
     "execution_count": 10,
     "metadata": {},
     "output_type": "execute_result"
    }
   ],
   "source": [
    "prices = data[\"price\"]\n",
    "average_price = statistics.mean(prices)\n",
    "average_price"
   ]
  },
  {
   "cell_type": "code",
   "execution_count": 11,
   "metadata": {},
   "outputs": [
    {
     "data": {
      "text/plain": [
       "28.0"
      ]
     },
     "execution_count": 11,
     "metadata": {},
     "output_type": "execute_result"
    }
   ],
   "source": [
    "median_prices = statistics.median(prices)\n",
    "median_prices"
   ]
  },
  {
   "cell_type": "code",
   "execution_count": 13,
   "metadata": {},
   "outputs": [
    {
     "data": {
      "text/plain": [
       "35.363389129985535"
      ]
     },
     "execution_count": 13,
     "metadata": {},
     "output_type": "execute_result"
    }
   ],
   "source": [
    "mode_prices = statistics.mode(prices)\n",
    "mode_prices"
   ]
  },
  {
   "cell_type": "code",
   "execution_count": 21,
   "metadata": {},
   "outputs": [
    {
     "name": "stdout",
     "output_type": "stream",
     "text": [
      "0.402137\n"
     ]
    }
   ],
   "source": [
    "# Оставляем только числовые столбцы (например, 'price' и 'points')\n",
    "numeric_data = data[['price', 'points']].apply(pd.to_numeric, errors='coerce')\n",
    "\n",
    "# Вычисление коэффициента корреляции\n",
    "correlation_matrix = numeric_data.corr()\n",
    "\n",
    "# Извлечение коэффициента корреляции между ценой (price) и баллами (points)\n",
    "price_points_correlation = correlation_matrix.loc['price', 'points']\n",
    "\n",
    "# Округление до шести знаков после запятой\n",
    "price_points_correlation_rounded = round(price_points_correlation, 6)\n",
    "\n",
    "# Вывод результата\n",
    "print(price_points_correlation_rounded)"
   ]
  },
  {
   "cell_type": "code",
   "execution_count": 22,
   "metadata": {},
   "outputs": [
    {
     "name": "stdout",
     "output_type": "stream",
     "text": [
      "0.581095\n"
     ]
    }
   ],
   "source": [
    "# Оставляем только числовые столбцы (например, 'price' и 'points')\n",
    "numeric_data = data[['price', 'points']].apply(pd.to_numeric, errors='coerce')\n",
    "\n",
    "# Вычисление коэффициента корреляции\n",
    "correlation_matrix = numeric_data.corr(method=\"spearman\")\n",
    "\n",
    "# Извлечение коэффициента корреляции между ценой (price) и баллами (points)\n",
    "price_points_correlation = correlation_matrix.loc['price', 'points']\n",
    "\n",
    "# Округление до шести знаков после запятой\n",
    "price_points_correlation_rounded = round(price_points_correlation, 6)\n",
    "\n",
    "# Вывод результата\n",
    "print(price_points_correlation_rounded)"
   ]
  },
  {
   "cell_type": "code",
   "execution_count": 23,
   "metadata": {},
   "outputs": [
    {
     "name": "stdout",
     "output_type": "stream",
     "text": [
      "0.433498\n"
     ]
    }
   ],
   "source": [
    "# Оставляем только числовые столбцы (например, 'price' и 'points')\n",
    "numeric_data = data[['price', 'points']].apply(pd.to_numeric, errors='coerce')\n",
    "\n",
    "# Вычисление коэффициента корреляции\n",
    "correlation_matrix = numeric_data.corr(method=\"kendall\")\n",
    "\n",
    "# Извлечение коэффициента корреляции между ценой (price) и баллами (points)\n",
    "price_points_correlation = correlation_matrix.loc['price', 'points']\n",
    "\n",
    "# Округление до шести знаков после запятой\n",
    "price_points_correlation_rounded = round(price_points_correlation, 6)\n",
    "\n",
    "# Вывод результата\n",
    "print(price_points_correlation_rounded)"
   ]
  },
  {
   "cell_type": "code",
   "execution_count": 25,
   "metadata": {},
   "outputs": [
    {
     "data": {
      "text/plain": [
       "-0.3333333333333333"
      ]
     },
     "execution_count": 25,
     "metadata": {},
     "output_type": "execute_result"
    }
   ],
   "source": [
    "from sklearn.metrics import matthews_corrcoef\n",
    "\n",
    "x = [+1, -1, +1, +1] # список значений признака х\n",
    "y = [+1, +1, +1, -1] # список значений признака y\n",
    "\n",
    "matt_corr= matthews_corrcoef(x, y) # рассчитаем коэффициент корреляции Мэтьюса\n",
    "matt_corr"
   ]
  }
 ],
 "metadata": {
  "kernelspec": {
   "display_name": "Python 3",
   "language": "python",
   "name": "python3"
  },
  "language_info": {
   "codemirror_mode": {
    "name": "ipython",
    "version": 3
   },
   "file_extension": ".py",
   "mimetype": "text/x-python",
   "name": "python",
   "nbconvert_exporter": "python",
   "pygments_lexer": "ipython3",
   "version": "3.12.0"
  }
 },
 "nbformat": 4,
 "nbformat_minor": 2
}
