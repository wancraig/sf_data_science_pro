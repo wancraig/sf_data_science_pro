{
 "cells": [
  {
   "cell_type": "code",
   "execution_count": 2,
   "metadata": {},
   "outputs": [],
   "source": [
    "import pandas as pd\n",
    "heart = pd.read_csv(\"heart.csv\")"
   ]
  },
  {
   "cell_type": "code",
   "execution_count": 3,
   "metadata": {},
   "outputs": [
    {
     "name": "stdout",
     "output_type": "stream",
     "text": [
      "79\n"
     ]
    }
   ],
   "source": [
    "# Предположим, что ваш DataFrame уже загружен в переменную heart\n",
    "\n",
    "# Создаем новый столбец 'old' с использованием логического выражения\n",
    "heart['old'] = (heart['age'] > 60).astype(int)\n",
    "\n",
    "# Считаем сумму значений в столбце 'old'\n",
    "result = heart['old'].sum()\n",
    "\n",
    "print(result)"
   ]
  },
  {
   "cell_type": "code",
   "execution_count": null,
   "metadata": {},
   "outputs": [],
   "source": [
    "# Предполагается, что датафрейм heart уже загружен из файла heart.csv\n",
    "\n",
    "# Проверяем размер датафрейма\n",
    "print(f\"Количество строк в датафрейме: {len(heart)}\")\n",
    "\n",
    "# Заменяем 300 на нужный индекс пациента\n",
    "patient_index = 300  # Замените на фактический индекс, если он начинается не с 0\n",
    "\n",
    "# Проверяем, существует ли такой индекс\n",
    "if patient_index < len(heart):\n",
    "    print(f\"Среднее систолическое давление для пациента {patient_index}: {heart.loc[patient_index, 'trestbps_mean']}\")\n",
    "else:\n",
    "    print(\"Индекс пациента выходит за пределы датафрейма.\")"
   ]
  },
  {
   "cell_type": "code",
   "execution_count": null,
   "metadata": {},
   "outputs": [],
   "source": [
    "print(len(heart))\n",
    "print(heart.columns)\n",
    "print(heart.head())"
   ]
  },
  {
   "cell_type": "code",
   "execution_count": 18,
   "metadata": {},
   "outputs": [
    {
     "name": "stdout",
     "output_type": "stream",
     "text": [
      "Количество признаков после OneHotEncoding: 20\n",
      "   age  sex  cp_3.0  cp_2.0  cp_1.0  trestbps  chol  fbs  restecg_0.0  \\\n",
      "0   63    1       1       0       0       145   233    1            1   \n",
      "1   37    1       0       1       0       130   250    0            0   \n",
      "2   41    0       0       0       1       130   204    0            1   \n",
      "\n",
      "   restecg_1.0  thalach  exang  oldpeak  slope_0.0  slope_2.0  ca_0.0  \\\n",
      "0            0      150      0      2.3          1          0       1   \n",
      "1            1      187      0      3.5          1          0       1   \n",
      "2            0      172      0      1.4          0          1       1   \n",
      "\n",
      "   thal_1.0  thal_2.0  thal_3.0  target  \n",
      "0         1         0         0       1  \n",
      "1         0         1         0       1  \n",
      "2         0         0         1       1  \n"
     ]
    }
   ],
   "source": [
    "import category_encoders as ce\n",
    "\n",
    "# Пример данных (замените на ваш реальный датасет)\n",
    "data = {\n",
    "    'age': [63, 37, 41],\n",
    "    'sex': [1, 1, 0],\n",
    "    'cp': [3, 2, 1],\n",
    "    'trestbps': [145, 130, 130],\n",
    "    'chol': [233, 250, 204],\n",
    "    'fbs': [1, 0, 0],\n",
    "    'restecg': [0, 1, 0],\n",
    "    'thalach': [150,30 187, 172],\n",
    "    'exang': [0, 0, 0],\n",
    "    'oldpeak': [2.3, 3.5, 1.4],\n",
    "    'slope': [0, 0, 2],\n",
    "    'ca': [0, 0, 0],\n",
    "    'thal': [1, 2, 3],\n",
    "    'target': [1, 1, 1]\n",
    "}\n",
    "\n",
    "# Создание DataFrame\n",
    "df = pd.DataFrame(data)\n",
    "\n",
    "# Указание категориальных признаков для кодирования\n",
    "categorical_features = ['cp', 'restecg', 'slope', 'ca', 'thal']\n",
    "\n",
    "# Применение OneHotEncoding\n",
    "encoder = ce.OneHotEncoder(cols=categorical_features, use_cat_names=True)\n",
    "df_encoded = encoder.fit_transform(df)\n",
    "\n",
    "# Выводим результат\n",
    "print(f\"Количество признаков после OneHotEncoding: {df_encoded.shape[1]}\")\n",
    "print(df_encoded.head())\n"
   ]
  },
  {
   "cell_type": "code",
   "execution_count": 19,
   "metadata": {},
   "outputs": [
    {
     "name": "stdout",
     "output_type": "stream",
     "text": [
      "Стандартное отклонение признака 'chol': 1.224745\n"
     ]
    }
   ],
   "source": [
    "from sklearn.preprocessing import StandardScaler\n",
    "\n",
    "# Пример данных (замените на ваш реальный датасет)\n",
    "data = {\n",
    "    'age': [63, 37, 41],\n",
    "    'sex': [1, 1, 0],\n",
    "    'cp': [3, 2, 1],\n",
    "    'trestbps': [145, 130, 130],\n",
    "    'chol': [233, 250, 204],\n",
    "    'fbs': [1, 0, 0],\n",
    "    'restecg': [0, 1, 0],\n",
    "    'thalach': [150, 187, 172],\n",
    "    'exang': [0, 0, 0],\n",
    "    'oldpeak': [2.3, 3.5, 1.4],\n",
    "    'slope': [0, 0, 2],\n",
    "    'ca': [0, 0, 0],\n",
    "    'thal': [1, 2, 3],\n",
    "    'target': [1, 1, 1]\n",
    "}\n",
    "\n",
    "# Создание DataFrame\n",
    "df = pd.DataFrame(data)\n",
    "\n",
    "# Выбор числовых признаков для нормализации\n",
    "numeric_features = ['age', 'trestbps', 'chol', 'thalach', 'oldpeak']\n",
    "\n",
    "# Применение StandardScaler для нормализации числовых признаков\n",
    "scaler = StandardScaler()\n",
    "df[numeric_features] = scaler.fit_transform(df[numeric_features])\n",
    "\n",
    "# Вычисление стандартного отклонения признака chol\n",
    "std_chol = df['chol'].std()\n",
    "\n",
    "# Вывод результата\n",
    "print(f\"Стандартное отклонение признака 'chol': {std_chol:.6f}\")"
   ]
  },
  {
   "cell_type": "code",
   "execution_count": null,
   "metadata": {},
   "outputs": [],
   "source": []
  }
 ],
 "metadata": {
  "kernelspec": {
   "display_name": "Python 3",
   "language": "python",
   "name": "python3"
  },
  "language_info": {
   "codemirror_mode": {
    "name": "ipython",
    "version": 3
   },
   "file_extension": ".py",
   "mimetype": "text/x-python",
   "name": "python",
   "nbconvert_exporter": "python",
   "pygments_lexer": "ipython3",
   "version": "3.12.0"
  }
 },
 "nbformat": 4,
 "nbformat_minor": 2
}
