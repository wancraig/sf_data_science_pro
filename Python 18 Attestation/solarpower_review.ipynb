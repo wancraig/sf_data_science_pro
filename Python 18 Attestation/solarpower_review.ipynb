{
 "cells": [
  {
   "cell_type": "code",
   "execution_count": 2,
   "metadata": {},
   "outputs": [
    {
     "data": {
      "text/html": [
       "<div>\n",
       "<style scoped>\n",
       "    .dataframe tbody tr th:only-of-type {\n",
       "        vertical-align: middle;\n",
       "    }\n",
       "\n",
       "    .dataframe tbody tr th {\n",
       "        vertical-align: top;\n",
       "    }\n",
       "\n",
       "    .dataframe thead th {\n",
       "        text-align: right;\n",
       "    }\n",
       "</style>\n",
       "<table border=\"1\" class=\"dataframe\">\n",
       "  <thead>\n",
       "    <tr style=\"text-align: right;\">\n",
       "      <th></th>\n",
       "      <th>date</th>\n",
       "      <th>cum_power</th>\n",
       "    </tr>\n",
       "  </thead>\n",
       "  <tbody>\n",
       "    <tr>\n",
       "      <th>0</th>\n",
       "      <td>2017-01-01</td>\n",
       "      <td>20111.0</td>\n",
       "    </tr>\n",
       "    <tr>\n",
       "      <th>1</th>\n",
       "      <td>2017-01-02</td>\n",
       "      <td>20112.0</td>\n",
       "    </tr>\n",
       "    <tr>\n",
       "      <th>2</th>\n",
       "      <td>2017-01-03</td>\n",
       "      <td>20115.0</td>\n",
       "    </tr>\n",
       "    <tr>\n",
       "      <th>3</th>\n",
       "      <td>2017-01-04</td>\n",
       "      <td>20117.0</td>\n",
       "    </tr>\n",
       "    <tr>\n",
       "      <th>4</th>\n",
       "      <td>2017-01-05</td>\n",
       "      <td>20119.0</td>\n",
       "    </tr>\n",
       "  </tbody>\n",
       "</table>\n",
       "</div>"
      ],
      "text/plain": [
       "         date  cum_power\n",
       "0  2017-01-01    20111.0\n",
       "1  2017-01-02    20112.0\n",
       "2  2017-01-03    20115.0\n",
       "3  2017-01-04    20117.0\n",
       "4  2017-01-05    20119.0"
      ]
     },
     "execution_count": 2,
     "metadata": {},
     "output_type": "execute_result"
    }
   ],
   "source": [
    "import pandas as pd\n",
    "\n",
    "solar_data = pd.read_csv('solarpower.csv')\n",
    "solar_data.head()"
   ]
  },
  {
   "cell_type": "code",
   "execution_count": 3,
   "metadata": {},
   "outputs": [
    {
     "name": "stdout",
     "output_type": "stream",
     "text": [
      "Среднее арифметическое в столбце cum_power после заполнения пропусков: 23848\n"
     ]
    }
   ],
   "source": [
    "# Замена значений -1 на NaN\n",
    "solar_data['cum_power'].replace(-1, float('nan'), inplace=True)\n",
    "\n",
    "# Интерполяция для заполнения NaN\n",
    "solar_data['cum_power'].interpolate(inplace=True)\n",
    "\n",
    "# Вычисление среднего арифметического\n",
    "mean_cum_power = round(solar_data['cum_power'].mean())\n",
    "\n",
    "print(\"Среднее арифметическое в столбце cum_power после заполнения пропусков:\", mean_cum_power)"
   ]
  },
  {
   "cell_type": "code",
   "execution_count": 4,
   "metadata": {},
   "outputs": [
    {
     "name": "stdout",
     "output_type": "stream",
     "text": [
      "Средняя выработка солнечной энергии в марте 2017 года: 11\n"
     ]
    }
   ],
   "source": [
    "# Преобразование столбца date в тип datetime\n",
    "solar_data['date'] = pd.to_datetime(solar_data['date'])\n",
    "\n",
    "# Создание столбца day_power\n",
    "solar_data['day_power'] = solar_data['cum_power'] - solar_data['cum_power'].shift(1)\n",
    "\n",
    "# Преобразование даты в период (год-месяц)\n",
    "solar_data['year_month'] = solar_data['date'].dt.to_period('M')\n",
    "\n",
    "# Группировка по году и месяцу, расчет среднего day_power\n",
    "monthly_average = solar_data.groupby('year_month')['day_power'].mean()\n",
    "\n",
    "# Извлечение средней выработки для марта 2017 года\n",
    "average_march_2017 = round(monthly_average['2017-03'])\n",
    "\n",
    "print(\"Средняя выработка солнечной энергии в марте 2017 года:\", average_march_2017)"
   ]
  }
 ],
 "metadata": {
  "kernelspec": {
   "display_name": "Python 3",
   "language": "python",
   "name": "python3"
  },
  "language_info": {
   "codemirror_mode": {
    "name": "ipython",
    "version": 3
   },
   "file_extension": ".py",
   "mimetype": "text/x-python",
   "name": "python",
   "nbconvert_exporter": "python",
   "pygments_lexer": "ipython3",
   "version": "3.12.0"
  }
 },
 "nbformat": 4,
 "nbformat_minor": 2
}
