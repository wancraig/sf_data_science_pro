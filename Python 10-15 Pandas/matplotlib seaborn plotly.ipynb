{
 "cells": [
  {
   "cell_type": "code",
   "execution_count": null,
   "metadata": {},
   "outputs": [],
   "source": [
    "import pandas as pd\n",
    "covid_data = pd.read_csv('data/covid_data.csv')\n",
    "vaccinations_data = pd.read_csv('data/country_vaccinations.csv')\n",
    "vaccinations_data = vaccinations_data[\n",
    "    ['country', 'date', 'total_vaccinations', \n",
    "     'people_vaccinated', 'people_vaccinated_per_hundred',\n",
    "     'people_fully_vaccinated', 'people_fully_vaccinated_per_hundred',\n",
    "     'daily_vaccinations', 'vaccines']\n",
    "]"
   ]
  },
  {
   "cell_type": "code",
   "execution_count": null,
   "metadata": {},
   "outputs": [],
   "source": [
    "covid_data = covid_data.groupby(\n",
    "    ['date', 'country'], \n",
    "    as_index=False\n",
    ")[['confirmed', 'deaths', 'recovered']].sum()\n",
    "\n",
    "covid_data['date'] = pd.to_datetime(covid_data['date'])\n",
    "\n",
    "covid_data['active'] = covid_data['confirmed'] - covid_data['deaths'] - covid_data['recovered']\n",
    "\n",
    "covid_data = covid_data.sort_values(by=['country', 'date'])\n",
    "covid_data['daily_confirmed'] = covid_data.groupby('country')['confirmed'].diff()\n",
    "covid_data['daily_deaths'] = covid_data.groupby('country')['deaths'].diff()\n",
    "covid_data['daily_recovered'] = covid_data.groupby('country')['recovered'].diff()\n",
    "\n",
    "vaccinations_data['date'] = pd.to_datetime(vaccinations_data['date'])"
   ]
  },
  {
   "cell_type": "code",
   "execution_count": null,
   "metadata": {},
   "outputs": [],
   "source": [
    "min_date = covid_data['date'].min()\n",
    "max_date = covid_data['date'].max()\n",
    "\n",
    "# Вывод найденных дат\n",
    "print(min_date, '-', max_date)"
   ]
  },
  {
   "cell_type": "code",
   "execution_count": null,
   "metadata": {},
   "outputs": [],
   "source": [
    "# Объедините таблицы по столбцам date и country\n",
    "# ЕСЛИ ОБЪЕДИНЕНИЕ ПРОХОДИТ С ОШИБКОЙ ВСЕГДА ОБРАЩАЙ ВНИМАНИЕ НА HOW!!!!!!\n",
    "covid_df = pd.merge(covid_data, vaccinations_data, on=['date', 'country'], how='left')\n",
    "\n",
    "# Получите количество строк и столбцов в таблице covid_df\n",
    "num_rows = covid_df.shape[0]\n",
    "num_cols = covid_df.shape[1]"
   ]
  },
  {
   "cell_type": "code",
   "execution_count": null,
   "metadata": {},
   "outputs": [],
   "source": [
    "# Расчет признака death_rate (летальность) и recover_rate (процент выздоровления)\n",
    "covid_df['death_rate'] = (covid_df['deaths'] / covid_df['confirmed']) * 100\n",
    "covid_df['recover_rate'] = (covid_df['recovered'] / covid_df['confirmed']) * 100\n",
    "\n",
    "# Фильтрация данных только для США (United States)\n",
    "us_data = covid_df[covid_df['country'] == 'United States']\n",
    "\n",
    "# Нахождение максимальной летальности для США\n",
    "max_death_rate_us = us_data['death_rate'].max()\n",
    "\n",
    "# Ответ округлен до второго знака после запятой\n",
    "max_death_rate_us_rounded = round(max_death_rate_us, 2)\n",
    "\n",
    "print(max_death_rate_us_rounded)"
   ]
  },
  {
   "cell_type": "code",
   "execution_count": null,
   "metadata": {},
   "outputs": [],
   "source": [
    "# Фильтрация данных только для России (Russia)\n",
    "russia_data = covid_df[covid_df['country'] == 'Russia']\n",
    "\n",
    "# Расчет среднего процента выздоровевших для России\n",
    "mean_recovery_rate_russia = russia_data['recover_rate'].mean()\n",
    "\n",
    "# Ответ округлен до второго знака после запятой\n",
    "mean_recovery_rate_russia_rounded = round(mean_recovery_rate_russia, 2)\n",
    "\n",
    "print(mean_recovery_rate_russia_rounded)"
   ]
  },
  {
   "cell_type": "code",
   "execution_count": null,
   "metadata": {},
   "outputs": [],
   "source": [
    "grouped_cases = covid_df.groupby('date')['daily_confirmed'].sum()\n",
    "grouped_cases.plot(\n",
    "    kind='line',\n",
    "    figsize=(12, 4),\n",
    "    title='Ежедневная заболеваемость во времени',\n",
    "    grid = True,\n",
    "    lw=3\n",
    ");"
   ]
  },
  {
   "cell_type": "code",
   "execution_count": null,
   "metadata": {},
   "outputs": [],
   "source": [
    "grouped_cases.plot(\n",
    "    kind='hist',\n",
    "    figsize=(10, 6),\n",
    "    title='Распределение ежедневной заболеваемости',\n",
    "    grid = True,\n",
    "    color = 'black',\n",
    "    bins=10\n",
    ");"
   ]
  },
  {
   "cell_type": "code",
   "execution_count": null,
   "metadata": {},
   "outputs": [],
   "source": [
    "grouped_country = covid_df.groupby(['country'])['confirmed'].last()\n",
    "grouped_country = grouped_country.nlargest(10)\n",
    "grouped_country.plot(\n",
    "    kind='bar',\n",
    "    grid=True,\n",
    "    figsize=(12, 4),\n",
    "    colormap='plasma'\n",
    ");\n",
    "# На диаграмме видно, что лидерами по числу заболевших являются Соединённые Штаты, Индия и Бразилия. \n",
    "# Соотношение зафиксированных случаев заражения в остальных странах примерно одинаковое"
   ]
  },
  {
   "cell_type": "code",
   "execution_count": null,
   "metadata": {},
   "outputs": [],
   "source": [
    "# как в этих десяти странах соотносится количество заболевших и умерших от вируса\n",
    "grouped_country = covid_df.groupby(['country'])[['confirmed', 'deaths']].last()\n",
    "grouped_country = grouped_country.nlargest(10, columns=['confirmed'])\n",
    "grouped_country.plot(     kind='bar',     grid=True,     figsize=(12, 4), );"
   ]
  },
  {
   "cell_type": "code",
   "execution_count": null,
   "metadata": {},
   "outputs": [],
   "source": [
    "covid_df.groupby(['country'])['total_vaccinations'].last().nsmallest(5).plot(kind='bar');"
   ]
  },
  {
   "cell_type": "code",
   "execution_count": null,
   "metadata": {},
   "outputs": [],
   "source": [
    "import matplotlib.pyplot as plt\n",
    "%matplotlib inline\n",
    "fig = plt.figure(figsize=(8, 4))\n",
    "axes = fig.add_axes([0, 0, 1, 1])\n",
    "axes.scatter(\n",
    "    x=us_data['people_fully_vaccinated'], \n",
    "    y=us_data['daily_confirmed'], \n",
    "    s=100,\n",
    "    marker='o',\n",
    "    c = 'blue'\n",
    ");"
   ]
  },
  {
   "cell_type": "code",
   "execution_count": null,
   "metadata": {},
   "outputs": [],
   "source": [
    "vaccine_combinations = covid_df['vaccines'].value_counts()[:10]\n",
    "fig = plt.figure(figsize=(5, 5))\n",
    "axes = fig.add_axes([0, 0, 1, 1])\n",
    "axes.pie(\n",
    "    vaccine_combinations,\n",
    "    labels=vaccine_combinations.index,\n",
    "    autopct='%.1f%%',\n",
    "    explode = [0.1, 0, 0, 0, 0, 0, 0, 0, 0, 0]\n",
    ");"
   ]
  },
  {
   "cell_type": "code",
   "execution_count": null,
   "metadata": {},
   "outputs": [],
   "source": [
    "china_data = covid_df[covid_df['country'] == 'China']\n",
    "china_grouped = china_data.groupby(['date'])[['confirmed', 'active', 'deaths', 'recovered']].sum()\n",
    "\n",
    "#визуализация графиков\n",
    "fig = plt.figure(figsize=(10, 4))\n",
    "axes = fig.add_axes([0, 0, 1, 1])\n",
    "axes.plot(china_grouped['confirmed'], label='Общее число зафиксированных случаев', lw=3)\n",
    "axes.plot(china_grouped['deaths'], label='Общее число смертей', lw=3)\n",
    "axes.plot(china_grouped['recovered'], label='Общее число выздоровевших пациентов', lw=3)\n",
    "axes.plot(china_grouped['active'], label='Общее число активных случаев', lw=3, linestyle='dashed')\n",
    "\n",
    "#установка параметров отображения\n",
    "axes.set_title('Статистика Covid-19 в Китае', fontsize=16)\n",
    "axes.set_xlabel('Даты')\n",
    "axes.set_ylabel('Число случаев')\n",
    "axes.set_yticks(range(0, 100000, 10000))\n",
    "axes.xaxis.set_tick_params(rotation=30)\n",
    "axes.grid()\n",
    "axes.legend();"
   ]
  },
  {
   "cell_type": "code",
   "execution_count": null,
   "metadata": {},
   "outputs": [],
   "source": [
    "vacc_country = covid_df.groupby('country')['people_fully_vaccinated'].last().nlargest(5)\n",
    "vacc_country_per_hundred = covid_df.groupby('country')['people_fully_vaccinated_per_hundred'].last().nlargest(5)\n",
    "\n",
    "#визуализация главного графика\n",
    "fig = plt.figure(figsize=(13, 4))\n",
    "main_axes = fig.add_axes([0, 0, 1, 1])\n",
    "main_axes.bar(x = vacc_country.index, height = vacc_country);\n",
    "main_axes.set_ylabel('Число вакцинированных (2 компонент)')\n",
    "main_axes.set_title('Топ 5 стран по числу полностью привитых людей')\n",
    "\n",
    "#визуализация вспомогательного графика\n",
    "insert_axes = fig.add_axes([0.6, 0.6, 0.38, 0.38])\n",
    "insert_axes.bar(x = vacc_country_per_hundred.index, height = vacc_country_per_hundred, width=0.5);\n",
    "insert_axes.set_ylabel('На 100 человек')\n",
    "insert_axes.xaxis.set_tick_params(rotation=45)"
   ]
  },
  {
   "cell_type": "code",
   "execution_count": null,
   "metadata": {},
   "outputs": [],
   "source": [
    "russia_data = covid_df[covid_df[\"country\"] == \"Russia\"]\n",
    "\n",
    "# визуализация систем координат\n",
    "fig, axes = plt.subplots(nrows=1, ncols=3, figsize=(15, 4))\n",
    "\n",
    "# столбчатая диаграмма\n",
    "axes[0].bar(\n",
    "    x=russia_data[\"date\"],\n",
    "    height=russia_data[\"daily_vaccinations\"],\n",
    "    label=\"Число вакцинированных\",\n",
    ")\n",
    "axes[0].set_title(\"Ежедневная вакцинация в России\")\n",
    "axes[0].xaxis.set_tick_params(rotation=45)\n",
    "\n",
    "# линейный график\n",
    "axes[1].plot(\n",
    "    russia_data[\"date\"],\n",
    "    russia_data[\"daily_confirmed\"],\n",
    "    label=\"Число заболевших\",\n",
    "    color=\"tomato\",\n",
    "    lw=2,\n",
    ")\n",
    "axes[1].set_title(\"Ежедневная заболеваемость в России\")\n",
    "axes[1].xaxis.set_tick_params(rotation=45)\n",
    "\n",
    "# гистограмма\n",
    "axes[2].hist(\n",
    "    x=russia_data[\"daily_confirmed\"], label=[\"Число заболевших\"], color=\"lime\", bins=20\n",
    ")\n",
    "axes[2].set_title(\"Гистограмма заболеваемости в России\")\n",
    "axes[2].xaxis.set_tick_params(rotation=30)"
   ]
  },
  {
   "cell_type": "code",
   "execution_count": null,
   "metadata": {},
   "outputs": [],
   "source": [
    "import seaborn as sns\n",
    "countries = ['Russia', 'Australia', 'Germany', 'Canada', 'United Kingdom']\n",
    "croped_covid_df = covid_df[covid_df['country'].isin(countries)]\n",
    "\n",
    "populations = pd.DataFrame([\n",
    "    ['Canada', 37664517],\n",
    "    ['Germany', 83721496],\n",
    "    ['Russia', 145975300],\n",
    "    ['Australia', 25726900],\n",
    "    ['United Kingdom', 67802690]\n",
    "    ],\n",
    "    columns=['country', 'population']\n",
    ")\n",
    "croped_covid_df = croped_covid_df.merge(populations, on=['country'])\n",
    "croped_covid_df['daily_confirmed_per_hundred'] = croped_covid_df['daily_confirmed'] / croped_covid_df['population'] * 100\n",
    "croped_covid_df.head()"
   ]
  },
  {
   "cell_type": "code",
   "execution_count": null,
   "metadata": {},
   "outputs": [],
   "source": [
    "# Построим сразу две гистограммы: одна будет иллюстрировать общее распределение ежедневной заболеваемости \n",
    "# (daily_confirmed), а вторая — то же распределение в разрезе стран.\n",
    "fig, axes = plt.subplots(nrows=2, ncols=1, figsize=(10, 8))\n",
    "sns.histplot(\n",
    "    data=croped_covid_df,\n",
    "    x='daily_confirmed_per_hundred',\n",
    "    bins=25,\n",
    "    kde=True,\n",
    "    ax=axes[0]\n",
    ");\n",
    "axes[0].set_title('Гистограмма ежедневной заболеваемости на 100 человек', fontsize=16)\n",
    "sns.histplot(\n",
    "    data=croped_covid_df,\n",
    "    x='daily_confirmed_per_hundred',\n",
    "    y='country',\n",
    "    bins=25,\n",
    "    color='red',\n",
    "    ax=axes[1]\n",
    ");"
   ]
  },
  {
   "cell_type": "code",
   "execution_count": null,
   "metadata": {},
   "outputs": [],
   "source": [
    "fig = plt.figure(figsize=(10, 7))\n",
    "boxplot = sns.boxplot(\n",
    "    data=croped_covid_df,\n",
    "    y='country',\n",
    "    x='death_rate',\n",
    "    orient='h',\n",
    "    width=0.9\n",
    ")\n",
    "boxplot.set_title('Распределение летальности по странам');\n",
    "boxplot.set_xlabel('Летальность');\n",
    "boxplot.set_ylabel('Страна');\n",
    "boxplot.grid()"
   ]
  },
  {
   "cell_type": "code",
   "execution_count": null,
   "metadata": {},
   "outputs": [],
   "source": [
    "# jointplot зависимости ежедневной заболеваемости в странах от общей численности населения в процентах \n",
    "# (daily_confirmed_per_hundred) от числа полностью вакцинированных в процентах (people_fully_vaccinated_per_hundred).\n",
    "jointplot = sns.jointplot(\n",
    "    data=croped_covid_df, \n",
    "    x='people_fully_vaccinated_per_hundred', \n",
    "    y='daily_confirmed_per_hundred',\n",
    "    hue='country',\n",
    "    xlim = (0, 40),\n",
    "    ylim = (0, 0.1),\n",
    "    height=8,\n",
    ")"
   ]
  },
  {
   "cell_type": "code",
   "execution_count": null,
   "metadata": {},
   "outputs": [],
   "source": [
    "pivot = croped_covid_df.pivot_table(\n",
    "    values='people_vaccinated_per_hundred',\n",
    "    columns='date',\n",
    "    index='country',\n",
    ")\n",
    "pivot.columns = pivot.columns.astype('string')\n",
    "display(pivot)\n",
    "\n",
    "heatmap = sns.heatmap(data=pivot, cmap='YlGnBu')\n",
    "heatmap.set_title('Тепловая карта вакцинации', fontsize=16);"
   ]
  },
  {
   "cell_type": "code",
   "execution_count": null,
   "metadata": {},
   "outputs": [],
   "source": [
    "# Создайте новый признак confirmed_per_hundred, который покажет процентное отношение заболевших вирусом к общему числу\n",
    "# населения в странах (). Постройте тепловую карту, которая покажет, как росло число заболевших в процентах от общего числа\n",
    "# населения (confirmed_per_hundred) в странах из таблицы croped_covid_df.\n",
    "\n",
    "# Создание признака confirmed_per_hundred - процентное отношение заболевших к общему числу населения в странах\n",
    "croped_covid_df['confirmed_per_hundred'] = (croped_covid_df['confirmed'] / croped_covid_df['population']) * 100\n",
    "\n",
    "# Построение тепловой карты\n",
    "import seaborn as sns\n",
    "import matplotlib.pyplot as plt\n",
    "\n",
    "plt.figure(figsize=(10, 8))\n",
    "heatmap = sns.heatmap(croped_covid_df.pivot_table(values='confirmed_per_hundred', index='country', aggfunc='mean'), cmap='YlOrRd', annot=True)\n",
    "plt.title('Процент заболевших от общего числа населения по странам')\n",
    "plt.show()"
   ]
  },
  {
   "cell_type": "code",
   "execution_count": null,
   "metadata": {},
   "outputs": [],
   "source": [
    "# Постройте коробчатую диаграмму для признака recover_rate (отношение выздоровлений к числу зафиксированных случаев\n",
    "# заболевания в процентах). Выберите верные выводы по данному графику:\n",
    "plt.figure(figsize=(10, 8))\n",
    "sns.boxplot(data=croped_covid_df, x='country', y='recover_rate')\n",
    "plt.xticks(rotation=90)\n",
    "plt.xlabel('Country')\n",
    "plt.ylabel('Recover Rate (%)')\n",
    "plt.title('Distribution of Recover Rate by Country')\n",
    "plt.tight_layout()\n",
    "plt.show()"
   ]
  },
  {
   "cell_type": "code",
   "execution_count": null,
   "metadata": {},
   "outputs": [],
   "source": [
    "import plotly\n",
    "import plotly.express as px\n",
    "\n",
    "line_data = covid_df.groupby('date', as_index=False).sum()\n",
    "fig = px.line(\n",
    "    data_frame=line_data, #DataFrame\n",
    "    x='date', #ось абсцисс\n",
    "    y=['confirmed', 'recovered', 'deaths', 'active'], #ось ординат\n",
    "    height=500, #высота\n",
    "    width=1000, #ширина\n",
    "    title='Confirmed, Recovered, Deaths, Active cases over Time' #заголовок\n",
    ")\n",
    "fig.show()"
   ]
  },
  {
   "cell_type": "code",
   "execution_count": null,
   "metadata": {},
   "outputs": [],
   "source": [
    "# построим столбчатую диаграмму, показывающую ТОП-10 стран по среднему проценту выздоравливающих пациентов (recover_rate)\n",
    "\n",
    "#считаем средний процент выздоровлений для каждой страны\n",
    "bar_data = covid_df.groupby(\n",
    "    by='country',\n",
    "    as_index=False\n",
    ")[['recover_rate']].mean().round(2).nlargest(10, columns=['recover_rate'])\n",
    "\n",
    "#строим график\n",
    "fig = px.bar(\n",
    "    data_frame=bar_data, #датафрейм\n",
    "    x=\"country\", #ось x\n",
    "    y=\"recover_rate\", #ось y\n",
    "    color='country', #расцветка в зависимости от страны\n",
    "    text = 'recover_rate', #текст на столбцах\n",
    "    orientation='v', #ориентация графика\n",
    "    height=500, #высота\n",
    "    width=1000, #ширина\n",
    "    title='Top 10 Countries for Recovery Rate' #заголовок\n",
    ")\n",
    "\n",
    "#отображаем его\n",
    "fig.show()"
   ]
  },
  {
   "cell_type": "code",
   "execution_count": null,
   "metadata": {},
   "outputs": [],
   "source": [
    "# Построим иерархическую диаграмму для среднего ежедневного показателя выздоровевших пациентов (daily_recovered)\n",
    "# во всех странах.\n",
    "\n",
    "#считаем среднее ежедневно фиксируемое количество выздоровевших по странам\n",
    "treemap_data = covid_df.groupby(\n",
    "    by='country',\n",
    "    as_index=False\n",
    ")[['daily_recovered']].mean()\n",
    "\n",
    "#строим график\n",
    "fig = px.treemap(\n",
    "    data_frame=treemap_data, #DataFrame\n",
    "    path=['country'], #категориальный признак, для которого строится график\n",
    "    values='daily_recovered', #параметр, который сравнивается\n",
    "    height=500, #высота\n",
    "    width=1000, #ширина\n",
    "    title='Daily Recovered Cases by Country' #заголовок\n",
    ")\n",
    "\n",
    "#отображаем график\n",
    "fig.show()"
   ]
  },
  {
   "cell_type": "code",
   "execution_count": null,
   "metadata": {},
   "outputs": [],
   "source": [
    "# построим фоновую картограмму, которая покажет распространение (confirmed) коронавируса в мире во времени.Предварительно\n",
    "# для правильного отображения на анимационном бегунке даты в таблице covid_df необходимо перевести обратно в строковый\n",
    "# тип данных.\n",
    "\n",
    "#преобразуем даты в строковый формат\n",
    "choropleth_data = covid_df.sort_values(by='date')\n",
    "choropleth_data['date'] = choropleth_data['date'].astype('string')\n",
    "\n",
    "#строим график\n",
    "fig = px.choropleth(\n",
    "    data_frame=choropleth_data, #DataFrame\n",
    "    locations=\"country\", #столбец с локациями\n",
    "    locationmode = \"country names\", #режим сопоставления локаций с базой Plotly\n",
    "    color=\"confirmed\", #от чего зависит цвет\n",
    "    animation_frame=\"date\", #анимационный бегунок\n",
    "    range_color=[0, 30e6], #диапазон цвета\n",
    "    title='Global Spread of COVID-19', #заголовок\n",
    "    width=800, #ширина\n",
    "    height=500, #высота\n",
    "    color_continuous_scale='Reds' #палитра цветов\n",
    ")\n",
    "\n",
    "#отображаем график\n",
    "fig.show()"
   ]
  },
  {
   "cell_type": "code",
   "execution_count": null,
   "metadata": {},
   "outputs": [],
   "source": [
    "# Построим 3D-диаграмму рассеяния, которая покажет, как число ежедневно обнаруживаемых случаев и число ежедневных смертей\n",
    "# влияют на желание людей вакцинироваться\n",
    "\n",
    "# фильтруем таблицу по странам\n",
    "countries=['United States', 'Russia', 'United Kingdom', 'Brazil', 'France']\n",
    "scatter_data = covid_df[covid_df['country'].isin(countries)]\n",
    "\n",
    "# строим график\n",
    "fig = px.scatter_3d(\n",
    "    data_frame=scatter_data, #DataFrame\n",
    "    x = 'daily_confirmed', #ось абсцисс\n",
    "    y = 'daily_deaths', #ось ординат\n",
    "    z = 'daily_vaccinations', #ось аппликат\n",
    "    color='country', #расцветка в зависимости от страны\n",
    "    log_x=True, \n",
    "    log_y=True,\n",
    "    width=1000,\n",
    "    height=700\n",
    ")\n",
    "\n",
    "# отображаем график\n",
    "fig.show()\n",
    "fig.write_html(\"data/scatter_3d.html\")"
   ]
  },
  {
   "cell_type": "code",
   "execution_count": null,
   "metadata": {},
   "outputs": [],
   "source": [
    "# Создание DataFrame с данными по мировым показателям\n",
    "world_vaccinations = vaccinations_data.groupby('date')['daily_vaccinations'].sum().reset_index()\n",
    "\n",
    "# Построение линейного графика с использованием Plotly\n",
    "fig = px.line(world_vaccinations, x='date', y='daily_vaccinations', title='Daily Vaccinations Worldwide Over Time')\n",
    "fig.update_xaxes(title='Date')\n",
    "fig.update_yaxes(title='Daily Vaccinations Worldwide')\n",
    "fig.show()"
   ]
  },
  {
   "cell_type": "code",
   "execution_count": null,
   "metadata": {},
   "outputs": [],
   "source": [
    "# Фильтрация данных по колонке 'total_vaccinations'\n",
    "vaccinations_data['date'] = pd.to_datetime(vaccinations_data['date'])\n",
    "filtered_data = vaccinations_data[vaccinations_data['date'] <= '2021-03-24']\n",
    "\n",
    "# Создание анимированной тепловой карты\n",
    "fig = px.choropleth(filtered_data, \n",
    "                    locations='country', \n",
    "                    locationmode='country names', \n",
    "                    color='total_vaccinations', \n",
    "                    hover_name='country', \n",
    "                    animation_frame='date', \n",
    "                    color_continuous_scale='Viridis',\n",
    "                    title='Total Vaccinations Worldwide'\n",
    "                   )\n",
    "fig.update_layout(title_x=0.5)\n",
    "fig.show()"
   ]
  }
 ],
 "metadata": {
  "kernelspec": {
   "display_name": "Python 3",
   "language": "python",
   "name": "python3"
  },
  "language_info": {
   "codemirror_mode": {
    "name": "ipython",
    "version": 3
   },
   "file_extension": ".py",
   "mimetype": "text/x-python",
   "name": "python",
   "nbconvert_exporter": "python",
   "pygments_lexer": "ipython3",
   "version": "3.12.0"
  }
 },
 "nbformat": 4,
 "nbformat_minor": 2
}
