{
 "cells": [
  {
   "cell_type": "code",
   "execution_count": null,
   "metadata": {},
   "outputs": [],
   "source": [
    "import pandas as pd\n",
    "\n",
    "df = pd.read_csv(\"data/citibike-tripdata.csv\")\n",
    "df.info()\n",
    "display(df.head())"
   ]
  },
  {
   "cell_type": "code",
   "execution_count": 3,
   "metadata": {},
   "outputs": [
    {
     "data": {
      "text/plain": [
       "169"
      ]
     },
     "metadata": {},
     "output_type": "display_data"
    }
   ],
   "source": [
    "# Сколько пропусков в столбце start station id?\n",
    "missing_start_station_id = df['start station id'].isnull().sum()\n",
    "display(missing_start_station_id)"
   ]
  },
  {
   "cell_type": "code",
   "execution_count": 4,
   "metadata": {},
   "outputs": [
    {
     "name": "stdout",
     "output_type": "stream",
     "text": [
      "Тип данных для столбца 'starttime': object\n",
      "Тип данных для столбца 'stoptime': object\n"
     ]
    }
   ],
   "source": [
    "# Какой тип данных имеют столбцы starttime и stoptime?\n",
    "print(\"Тип данных для столбца 'starttime':\", df['starttime'].dtype)\n",
    "print(\"Тип данных для столбца 'stoptime':\", df['stoptime'].dtype)"
   ]
  },
  {
   "cell_type": "code",
   "execution_count": 5,
   "metadata": {},
   "outputs": [
    {
     "data": {
      "text/plain": [
       "281.0"
      ]
     },
     "metadata": {},
     "output_type": "display_data"
    }
   ],
   "source": [
    "# Найдите идентификатор самой популярной стартовой стоянки. Запишите идентификатор в виде целого числа.\n",
    "most_popular_start_station_id = df['start station id'].value_counts().idxmax()\n",
    "display(most_popular_start_station_id)"
   ]
  },
  {
   "cell_type": "code",
   "execution_count": 7,
   "metadata": {},
   "outputs": [
    {
     "data": {
      "text/plain": [
       "33887"
      ]
     },
     "metadata": {},
     "output_type": "display_data"
    }
   ],
   "source": [
    "# Велосипед с каким идентификатором является самым популярным?\n",
    "most_popular_bike_id = df['bikeid'].value_counts().idxmax()\n",
    "display(most_popular_bike_id)"
   ]
  },
  {
   "cell_type": "code",
   "execution_count": 8,
   "metadata": {},
   "outputs": [
    {
     "data": {
      "text/plain": [
       "0.7740066666666666"
      ]
     },
     "metadata": {},
     "output_type": "display_data"
    }
   ],
   "source": [
    "# Какой тип клиентов (столбец usertype) является преобладающим — Subscriber или Customer? \n",
    "# В качестве ответа запишите долю клиентов преобладающего типа среди общего количества клиентов. Ответ округлите до сотых.\n",
    "# Посчитаем количество каждого типа клиентов\n",
    "user_type_counts = df['usertype'].value_counts()\n",
    "\n",
    "# Найдем преобладающий тип клиентов\n",
    "dominant_user_type = user_type_counts.idxmax()\n",
    "\n",
    "# Найдем долю преобладающего типа клиентов\n",
    "dominant_user_type_percentage = user_type_counts[dominant_user_type] / len(df)\n",
    "display(dominant_user_type_percentage)"
   ]
  },
  {
   "cell_type": "code",
   "execution_count": 10,
   "metadata": {},
   "outputs": [
    {
     "data": {
      "text/plain": [
       "183582"
      ]
     },
     "metadata": {},
     "output_type": "display_data"
    }
   ],
   "source": [
    "# Кто больше занимается велоспортом — мужчины или женщины? \n",
    "# В ответ запишите число поездок для той группы, у которой их больше.\n",
    "\n",
    "# Посчитаем количество поездок для каждого значения gender\n",
    "gender_counts = df['gender'].value_counts()\n",
    "\n",
    "# Найдем гендер с наибольшим количеством поездок\n",
    "dominant_gender = gender_counts.idxmax()\n",
    "\n",
    "# Найдем количество поездок для гендера с наибольшим количеством\n",
    "dominant_gender_trips = gender_counts[dominant_gender]\n",
    "display(dominant_gender_trips)"
   ]
  },
  {
   "cell_type": "code",
   "execution_count": 11,
   "metadata": {},
   "outputs": [
    {
     "name": "stdout",
     "output_type": "stream",
     "text": [
      "A. Число уникальных стартовых и конечных стоянок не равны: True\n",
      "B. Минимальный возраст клиента составлял 10 лет: False\n",
      "C. Самой непопулярной стартовой стоянкой является 'Eastern Pkwy & Washington Ave': True\n",
      "D. Наибольшее количество поездок завершается на стоянке 'Liberty Light Rail': False\n"
     ]
    }
   ],
   "source": [
    "# A. Проверим, что число уникальных стартовых и конечных стоянок не равны друг другу\n",
    "unique_start_stations = df['start station id'].nunique()\n",
    "unique_end_stations = df['end station id'].nunique()\n",
    "check_a = unique_start_stations != unique_end_stations\n",
    "\n",
    "# B. Проверим, что минимальный возраст клиента составлял 10 лет\n",
    "current_year = pd.Timestamp.now().year\n",
    "min_birth_year = df['birth year'].min()\n",
    "min_age = current_year - min_birth_year\n",
    "check_b = min_age == 10\n",
    "\n",
    "# C. Проверим, что самой непопулярной стартовой стоянкой является \"Eastern Pkwy & Washington Ave\"\n",
    "unpopular_start_station = \"Eastern Pkwy & Washington Ave\"\n",
    "count_unpopular_start_station = df[df['start station name'] == unpopular_start_station].shape[0]\n",
    "check_c = count_unpopular_start_station == df['start station name'].value_counts().min()\n",
    "\n",
    "# D. Проверим, что наибольшее количество поездок завершается на стоянке \"Liberty Light Rail\"\n",
    "popular_end_station = \"Liberty Light Rail\"\n",
    "count_popular_end_station = df[df['end station name'] == popular_end_station].shape[0]\n",
    "check_d = count_popular_end_station == df['end station name'].value_counts().max()\n",
    "\n",
    "# Выведем результаты\n",
    "print(\"A. Число уникальных стартовых и конечных стоянок не равны:\", check_a)\n",
    "print(\"B. Минимальный возраст клиента составлял 10 лет:\", check_b)\n",
    "print(\"C. Самой непопулярной стартовой стоянкой является 'Eastern Pkwy & Washington Ave':\", check_c)\n",
    "print(\"D. Наибольшее количество поездок завершается на стоянке 'Liberty Light Rail':\", check_d)"
   ]
  },
  {
   "cell_type": "code",
   "execution_count": 12,
   "metadata": {},
   "outputs": [
    {
     "data": {
      "text/plain": [
       "12"
      ]
     },
     "metadata": {},
     "output_type": "display_data"
    }
   ],
   "source": [
    "# Удалим столбцы с идентификаторами стоянок\n",
    "df_cleaned = df.drop(['start station id', 'end station id'], axis=1)\n",
    "\n",
    "# Выведем количество оставшихся столбцов\n",
    "remaining_columns = df_cleaned.shape[1]\n",
    "display(remaining_columns)"
   ]
  },
  {
   "cell_type": "code",
   "execution_count": 13,
   "metadata": {},
   "outputs": [
    {
     "data": {
      "text/plain": [
       "11837"
      ]
     },
     "metadata": {},
     "output_type": "display_data"
    }
   ],
   "source": [
    "# Замените признак birth year на более понятный признак возраста клиента age. Годом отсчёта возраста выберите 2018 год. \n",
    "# Столбец birth year удалите из таблицы. Сколько поездок совершено клиентами старше 60 лет?\n",
    "# Заменим признак birth year на признак возраста age\n",
    "current_year = 2018\n",
    "df['age'] = current_year - df['birth year']\n",
    "\n",
    "# Удалим столбец birth year\n",
    "df = df.drop(['birth year'], axis=1)\n",
    "\n",
    "# Посчитаем количество поездок клиентов старше 60 лет\n",
    "trips_by_clients_over_60 = df[df['age'] > 60].shape[0]\n",
    "display(trips_by_clients_over_60)"
   ]
  },
  {
   "cell_type": "code",
   "execution_count": 14,
   "metadata": {},
   "outputs": [
    {
     "data": {
      "text/plain": [
       "7.280616666666666"
      ]
     },
     "metadata": {},
     "output_type": "display_data"
    }
   ],
   "source": [
    "# Создайте признак длительности поездки trip duration. Для этого вычислите интервал времени между временем окончания поездки\n",
    "# (stoptime) и её началом (starttime). Сколько целых минут длилась поездка под индексом 3 в таблице?\n",
    "# Преобразуем столбцы starttime и stoptime в формат datetime\n",
    "df['starttime'] = pd.to_datetime(df['starttime'])\n",
    "df['stoptime'] = pd.to_datetime(df['stoptime'])\n",
    "\n",
    "# Создадим столбец trip duration\n",
    "df['trip duration'] = (df['stoptime'] - df['starttime']).dt.total_seconds() / 60  # переводим в минуты\n",
    "\n",
    "# Найдем длительность поездки под индексом 3\n",
    "trip_duration_index_3 = df.loc[3, 'trip duration']\n",
    "display(trip_duration_index_3)"
   ]
  },
  {
   "cell_type": "code",
   "execution_count": 15,
   "metadata": {},
   "outputs": [
    {
     "data": {
      "text/plain": [
       "115135"
      ]
     },
     "metadata": {},
     "output_type": "display_data"
    }
   ],
   "source": [
    "# Создайте «признак-мигалку» weekend, который равен 1, если поездка начиналась в выходной день (суббота или воскресенье), \n",
    "# и 0 — в противном случае. Выясните, сколько поездок начиналось в выходные.\n",
    "# Преобразуем столбец starttime в формат datetime\n",
    "df['starttime'] = pd.to_datetime(df['starttime'])\n",
    "\n",
    "# Создадим признак-мигалку weekend\n",
    "df['weekend'] = (df['starttime'].dt.dayofweek // 5).astype(int)  # 5 и 6 соответствуют субботе и воскресенью\n",
    "\n",
    "# Посчитаем количество поездок, начинающихся в выходные\n",
    "weekend_trips = df[df['weekend'] == 1].shape[0]\n",
    "display(weekend_trips)"
   ]
  },
  {
   "cell_type": "code",
   "execution_count": 16,
   "metadata": {},
   "outputs": [
    {
     "name": "stdout",
     "output_type": "stream",
     "text": [
      "Количество поездок, совершённых днём, в 9 раз(а) больше, чем количество поездок, совершённых ночью.\n"
     ]
    }
   ],
   "source": [
    "# Создайте признак времени суток поездки time_of_day. Время суток будем определять из часа начала поездки\n",
    "# Преобразуем столбец starttime в формат datetime\n",
    "df['starttime'] = pd.to_datetime(df['starttime'])\n",
    "\n",
    "# Создадим признак времени суток time_of_day\n",
    "df['time_of_day'] = pd.cut(df['starttime'].dt.hour, bins=[0, 6, 12, 18, 23], labels=['night', 'morning', 'day', 'evening'], include_lowest=True)\n",
    "\n",
    "# Посчитаем количество поездок, совершённых днём и ночью\n",
    "day_trips = df[df['time_of_day'] == 'day'].shape[0]\n",
    "night_trips = df[df['time_of_day'] == 'night'].shape[0]\n",
    "\n",
    "# Выведем результат\n",
    "if night_trips != 0:\n",
    "    ratio = day_trips / night_trips\n",
    "    print(\"Количество поездок, совершённых днём, в\", round(ratio), \"раз(а) больше, чем количество поездок, совершённых ночью.\")\n",
    "else:\n",
    "    print(\"Количество поездок, совершённых ночью, равно нулю.\")"
   ]
  }
 ],
 "metadata": {
  "kernelspec": {
   "display_name": "Python 3",
   "language": "python",
   "name": "python3"
  },
  "language_info": {
   "codemirror_mode": {
    "name": "ipython",
    "version": 3
   },
   "file_extension": ".py",
   "mimetype": "text/x-python",
   "name": "python",
   "nbconvert_exporter": "python",
   "pygments_lexer": "ipython3",
   "version": "3.12.0"
  }
 },
 "nbformat": 4,
 "nbformat_minor": 2
}
