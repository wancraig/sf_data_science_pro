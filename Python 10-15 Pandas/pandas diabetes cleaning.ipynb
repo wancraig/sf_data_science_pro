{
 "cells": [
  {
   "cell_type": "code",
   "execution_count": 45,
   "metadata": {},
   "outputs": [],
   "source": [
    "import pandas as pd\n",
    "import numpy as np\n",
    "diabetes = pd.read_csv('data/diabetes_data.csv')"
   ]
  },
  {
   "cell_type": "code",
   "execution_count": 46,
   "metadata": {},
   "outputs": [
    {
     "name": "stdout",
     "output_type": "stream",
     "text": [
      "Количество записей после удаления дубликатов: 768\n"
     ]
    }
   ],
   "source": [
    "# Начнём с поиска дубликатов в данных. Найдите все повторяющиеся строки в данных и удалите их.\n",
    "# Для поиска используйте все признаки в данных. Сколько записей осталось в данных?\n",
    "# Удаление повторяющихся строк по всем признакам\n",
    "diabetes_no_duplicates = diabetes.drop_duplicates()\n",
    "\n",
    "# Определение количества оставшихся записей в данных\n",
    "remaining_records = diabetes_no_duplicates.shape[0]\n",
    "\n",
    "print(f\"Количество записей после удаления дубликатов: {remaining_records}\")"
   ]
  },
  {
   "cell_type": "code",
   "execution_count": 47,
   "metadata": {},
   "outputs": [
    {
     "name": "stdout",
     "output_type": "stream",
     "text": [
      "Gender: 100.0% одинаковых значений\n"
     ]
    }
   ],
   "source": [
    "#список неинформативных признаков\n",
    "low_information_cols = [] \n",
    "\n",
    "#цикл по всем столбцам\n",
    "for col in diabetes.columns:\n",
    "    #наибольшая относительная частота в признаке\n",
    "    top_freq = diabetes[col].value_counts(normalize=True).max()\n",
    "    #доля уникальных значений от размера признака\n",
    "    nunique_ratio = diabetes[col].nunique() / diabetes[col].count()\n",
    "    # сравниваем наибольшую частоту с порогом\n",
    "    if top_freq > 0.95:\n",
    "        low_information_cols.append(col)\n",
    "        print(f'{col}: {round(top_freq*100, 2)}% одинаковых значений')\n",
    "    # сравниваем долю уникальных значений с порогом\n",
    "    if nunique_ratio > 0.95:\n",
    "        low_information_cols.append(col)\n",
    "        print(f'{col}: {round(nunique_ratio*100, 2)}% уникальных значений')"
   ]
  },
  {
   "cell_type": "code",
   "execution_count": 48,
   "metadata": {},
   "outputs": [
    {
     "name": "stdout",
     "output_type": "stream",
     "text": [
      "<class 'pandas.core.frame.DataFrame'>\n",
      "RangeIndex: 778 entries, 0 to 777\n",
      "Data columns (total 9 columns):\n",
      " #   Column                    Non-Null Count  Dtype  \n",
      "---  ------                    --------------  -----  \n",
      " 0   Pregnancies               778 non-null    int64  \n",
      " 1   Glucose                   778 non-null    int64  \n",
      " 2   BloodPressure             778 non-null    int64  \n",
      " 3   SkinThickness             778 non-null    int64  \n",
      " 4   Insulin                   778 non-null    int64  \n",
      " 5   BMI                       778 non-null    float64\n",
      " 6   DiabetesPedigreeFunction  778 non-null    float64\n",
      " 7   Age                       778 non-null    int64  \n",
      " 8   Outcome                   778 non-null    int64  \n",
      "dtypes: float64(2), int64(7)\n",
      "memory usage: 54.8 KB\n",
      "None\n"
     ]
    }
   ],
   "source": [
    "# Удаление столбца 'Gender'\n",
    "diabetes_cleaned = diabetes.drop('Gender', axis=1)\n",
    "\n",
    "# Вывод информации о новом наборе данных\n",
    "print(diabetes_cleaned.info())"
   ]
  },
  {
   "cell_type": "code",
   "execution_count": 52,
   "metadata": {},
   "outputs": [
    {
     "name": "stdout",
     "output_type": "stream",
     "text": [
      "<class 'pandas.core.frame.DataFrame'>\n",
      "Index: 768 entries, 0 to 767\n",
      "Data columns (total 8 columns):\n",
      " #   Column                    Non-Null Count  Dtype  \n",
      "---  ------                    --------------  -----  \n",
      " 0   Pregnancies               768 non-null    int64  \n",
      " 1   Glucose                   763 non-null    float64\n",
      " 2   BloodPressure             733 non-null    float64\n",
      " 3   SkinThickness             541 non-null    float64\n",
      " 4   BMI                       757 non-null    float64\n",
      " 5   DiabetesPedigreeFunction  768 non-null    float64\n",
      " 6   Age                       768 non-null    int64  \n",
      " 7   Outcome                   768 non-null    int64  \n",
      "dtypes: float64(5), int64(3)\n",
      "memory usage: 54.0 KB\n",
      "Результирующее число записей: 761\n"
     ]
    }
   ],
   "source": [
    "diabetes_data = pd.read_csv('data/diabetes_data.csv', sep=',')\n",
    "diabetes_data.head(5)\n",
    "\n",
    "dupl_columns = list(diabetes_data.columns)\n",
    "\n",
    "mask = diabetes_data.duplicated(subset=dupl_columns)\n",
    "diabetes_duplicates = diabetes_data[mask]\n",
    "diabetes_data = diabetes_data.drop_duplicates(subset=dupl_columns)\n",
    "\n",
    "low_information_cols = []\n",
    "\n",
    "#цикл по всем столбцам\n",
    "for col in diabetes_data.columns:\n",
    "    #наибольшая относительная частота в признаке\n",
    "    top_freq = diabetes_data[col].value_counts(normalize=True).max()\n",
    "    #доля уникальных значений от размера признака\n",
    "    nunique_ratio = diabetes_data[col].nunique() / diabetes_data[col].count()\n",
    "    # сравниваем наибольшую частоту с порогом\n",
    "    if top_freq > 0.95:\n",
    "        low_information_cols.append(col)\n",
    "    # сравниваем долю уникальных значений с порогом\n",
    "    if nunique_ratio > 0.95:\n",
    "        low_information_cols.append(col)\n",
    "diabetes_data = diabetes_data.drop(low_information_cols, axis=1)\n",
    "\n",
    "for col in ['Glucose', 'BloodPressure', 'SkinThickness', 'Insulin', 'BMI']:\n",
    "    diabetes_data[col] = diabetes_data[col].apply(lambda x: np.nan if x == 0 else x)\n",
    "#display(diabetes_dedupped)\n",
    "\n",
    "diabetes_data.isnull().mean().round(2).sort_values(ascending=False)\n",
    "\n",
    "thresh = diabetes_data.shape[0]*0.7\n",
    "#удаляем столбцы, в которых более 30% (100-70) пропусков\n",
    "diabetes_data = diabetes_data.dropna(thresh=thresh, axis=1)\n",
    "diabetes_data.info()\n",
    "\n",
    "m = diabetes_data.shape[1]\n",
    "diabetes_data = diabetes_data.dropna(thresh=m-2, axis=0)\n",
    "print(f'Результирующее число записей: {diabetes_data.shape[0]}')"
   ]
  },
  {
   "cell_type": "code",
   "execution_count": 53,
   "metadata": {},
   "outputs": [
    {
     "name": "stdout",
     "output_type": "stream",
     "text": [
      "Среднее значение в столбце SkinThickness: 29.1\n"
     ]
    }
   ],
   "source": [
    "# В оставшихся записях замените пропуски на медиану. \n",
    "# Чему равно среднее значение в столбце SkinThickness? Ответ округлите до десятых.\n",
    "diabetes_data['SkinThickness'].fillna(diabetes_data['SkinThickness'].median(), inplace=True)\n",
    "skin_thickness_mean = diabetes_data['SkinThickness'].mean().round(1)\n",
    "print(f'Среднее значение в столбце SkinThickness: {skin_thickness_mean}')"
   ]
  },
  {
   "cell_type": "code",
   "execution_count": 54,
   "metadata": {},
   "outputs": [
    {
     "name": "stdout",
     "output_type": "stream",
     "text": [
      "Число выбросов в признаке SkinThickness: 87\n"
     ]
    }
   ],
   "source": [
    "# Сколько выбросов найдёт классический метод межквартильного размаха в признаке SkinThickness?\n",
    "Q1 = diabetes_data['SkinThickness'].quantile(0.25)\n",
    "Q3 = diabetes_data['SkinThickness'].quantile(0.75)\n",
    "IQR = Q3 - Q1\n",
    "\n",
    "lower_bound = Q1 - 1.5 * IQR\n",
    "upper_bound = Q3 + 1.5 * IQR\n",
    "\n",
    "outliers_skin_thickness = diabetes_data[(diabetes_data['SkinThickness'] < lower_bound) | (diabetes_data['SkinThickness'] > upper_bound)]\n",
    "num_outliers_skin_thickness = outliers_skin_thickness.shape[0]\n",
    "\n",
    "print(f\"Число выбросов в признаке SkinThickness: {num_outliers_skin_thickness}\")"
   ]
  },
  {
   "cell_type": "code",
   "execution_count": 55,
   "metadata": {},
   "outputs": [
    {
     "name": "stdout",
     "output_type": "stream",
     "text": [
      "Число выбросов в признаке SkinThickness по методу z-отклонения: 4\n"
     ]
    }
   ],
   "source": [
    "# Сколько выбросов найдёт классический метод z-отклонения в признаке SkinThickness?\n",
    "mean_skin_thickness = diabetes_data['SkinThickness'].mean()\n",
    "std_skin_thickness = diabetes_data['SkinThickness'].std()\n",
    "\n",
    "# Вычисляем границы метода z-отклонения\n",
    "lower_bound_z = mean_skin_thickness - 3 * std_skin_thickness\n",
    "upper_bound_z = mean_skin_thickness + 3 * std_skin_thickness\n",
    "\n",
    "# Находим выбросы\n",
    "outliers_z_skin_thickness = diabetes_data[(diabetes_data['SkinThickness'] < lower_bound_z) | (diabetes_data['SkinThickness'] > upper_bound_z)]\n",
    "num_outliers_z_skin_thickness = outliers_z_skin_thickness.shape[0]\n",
    "\n",
    "print(f\"Число выбросов в признаке SkinThickness по методу z-отклонения: {num_outliers_z_skin_thickness}\")"
   ]
  },
  {
   "cell_type": "code",
   "execution_count": 56,
   "metadata": {},
   "outputs": [
    {
     "name": "stdout",
     "output_type": "stream",
     "text": [
      "Разница между выбросами в методах IQR и логарифмическом масштабе: 29\n"
     ]
    }
   ],
   "source": [
    "# Метод межквартильного размаха для исходного признака DiabetesPedigreeFunction\n",
    "q1 = diabetes_data['DiabetesPedigreeFunction'].quantile(0.25)\n",
    "q3 = diabetes_data['DiabetesPedigreeFunction'].quantile(0.75)\n",
    "iqr = q3 - q1\n",
    "\n",
    "lower_bound_iqr = q1 - 1.5 * iqr\n",
    "upper_bound_iqr = q3 + 1.5 * iqr\n",
    "\n",
    "outliers_iqr = diabetes_data[\n",
    "    (diabetes_data['DiabetesPedigreeFunction'] < lower_bound_iqr) | \n",
    "    (diabetes_data['DiabetesPedigreeFunction'] > upper_bound_iqr)\n",
    "]\n",
    "num_outliers_iqr = outliers_iqr.shape[0]\n",
    "\n",
    "# Метод выбросов в логарифмическом масштабе\n",
    "diabetes_data['log_DiabetesPedigreeFunction'] = np.log(diabetes_data['DiabetesPedigreeFunction'])\n",
    "\n",
    "q1_log = diabetes_data['log_DiabetesPedigreeFunction'].quantile(0.25)\n",
    "q3_log = diabetes_data['log_DiabetesPedigreeFunction'].quantile(0.75)\n",
    "iqr_log = q3_log - q1_log\n",
    "\n",
    "lower_bound_iqr_log = q1_log - 1.5 * iqr_log\n",
    "upper_bound_iqr_log = q3_log + 1.5 * iqr_log\n",
    "\n",
    "outliers_iqr_log = diabetes_data[\n",
    "    (diabetes_data['log_DiabetesPedigreeFunction'] < lower_bound_iqr_log) | \n",
    "    (diabetes_data['log_DiabetesPedigreeFunction'] > upper_bound_iqr_log)\n",
    "]\n",
    "num_outliers_iqr_log = outliers_iqr_log.shape[0]\n",
    "\n",
    "# Разница между числом выбросов\n",
    "difference_outliers = num_outliers_iqr - num_outliers_iqr_log\n",
    "print(f\"Разница между выбросами в методах IQR и логарифмическом масштабе: {difference_outliers}\")\n"
   ]
  }
 ],
 "metadata": {
  "kernelspec": {
   "display_name": "Python 3",
   "language": "python",
   "name": "python3"
  },
  "language_info": {
   "codemirror_mode": {
    "name": "ipython",
    "version": 3
   },
   "file_extension": ".py",
   "mimetype": "text/x-python",
   "name": "python",
   "nbconvert_exporter": "python",
   "pygments_lexer": "ipython3",
   "version": "3.12.0"
  }
 },
 "nbformat": 4,
 "nbformat_minor": 2
}
