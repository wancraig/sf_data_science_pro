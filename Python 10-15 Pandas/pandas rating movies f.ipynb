{
 "cells": [
  {
   "cell_type": "code",
   "execution_count": 1,
   "metadata": {},
   "outputs": [
    {
     "data": {
      "text/html": [
       "<div>\n",
       "<style scoped>\n",
       "    .dataframe tbody tr th:only-of-type {\n",
       "        vertical-align: middle;\n",
       "    }\n",
       "\n",
       "    .dataframe tbody tr th {\n",
       "        vertical-align: top;\n",
       "    }\n",
       "\n",
       "    .dataframe thead th {\n",
       "        text-align: right;\n",
       "    }\n",
       "</style>\n",
       "<table border=\"1\" class=\"dataframe\">\n",
       "  <thead>\n",
       "    <tr style=\"text-align: right;\">\n",
       "      <th></th>\n",
       "      <th>Unnamed: 0</th>\n",
       "      <th>userId</th>\n",
       "      <th>movieId</th>\n",
       "      <th>rating</th>\n",
       "      <th>date</th>\n",
       "      <th>title</th>\n",
       "      <th>genres</th>\n",
       "    </tr>\n",
       "  </thead>\n",
       "  <tbody>\n",
       "    <tr>\n",
       "      <th>0</th>\n",
       "      <td>0</td>\n",
       "      <td>1</td>\n",
       "      <td>1</td>\n",
       "      <td>4.0</td>\n",
       "      <td>2000-07-30 18:45:03</td>\n",
       "      <td>Toy Story (1995)</td>\n",
       "      <td>Adventure|Animation|Children|Comedy|Fantasy</td>\n",
       "    </tr>\n",
       "    <tr>\n",
       "      <th>1</th>\n",
       "      <td>1</td>\n",
       "      <td>1</td>\n",
       "      <td>3</td>\n",
       "      <td>4.0</td>\n",
       "      <td>2000-07-30 18:20:47</td>\n",
       "      <td>Grumpier Old Men (1995)</td>\n",
       "      <td>Comedy|Romance</td>\n",
       "    </tr>\n",
       "    <tr>\n",
       "      <th>2</th>\n",
       "      <td>2</td>\n",
       "      <td>1</td>\n",
       "      <td>6</td>\n",
       "      <td>4.0</td>\n",
       "      <td>2000-07-30 18:37:04</td>\n",
       "      <td>Heat (1995)</td>\n",
       "      <td>Action|Crime|Thriller</td>\n",
       "    </tr>\n",
       "    <tr>\n",
       "      <th>3</th>\n",
       "      <td>3</td>\n",
       "      <td>1</td>\n",
       "      <td>47</td>\n",
       "      <td>5.0</td>\n",
       "      <td>2000-07-30 19:03:35</td>\n",
       "      <td>Seven (a.k.a. Se7en) (1995)</td>\n",
       "      <td>Mystery|Thriller</td>\n",
       "    </tr>\n",
       "    <tr>\n",
       "      <th>4</th>\n",
       "      <td>4</td>\n",
       "      <td>1</td>\n",
       "      <td>50</td>\n",
       "      <td>5.0</td>\n",
       "      <td>2000-07-30 18:48:51</td>\n",
       "      <td>Usual Suspects, The (1995)</td>\n",
       "      <td>Crime|Mystery|Thriller</td>\n",
       "    </tr>\n",
       "  </tbody>\n",
       "</table>\n",
       "</div>"
      ],
      "text/plain": [
       "   Unnamed: 0  userId  movieId  rating                 date  \\\n",
       "0           0       1        1     4.0  2000-07-30 18:45:03   \n",
       "1           1       1        3     4.0  2000-07-30 18:20:47   \n",
       "2           2       1        6     4.0  2000-07-30 18:37:04   \n",
       "3           3       1       47     5.0  2000-07-30 19:03:35   \n",
       "4           4       1       50     5.0  2000-07-30 18:48:51   \n",
       "\n",
       "                         title                                       genres  \n",
       "0             Toy Story (1995)  Adventure|Animation|Children|Comedy|Fantasy  \n",
       "1      Grumpier Old Men (1995)                               Comedy|Romance  \n",
       "2                  Heat (1995)                        Action|Crime|Thriller  \n",
       "3  Seven (a.k.a. Se7en) (1995)                             Mystery|Thriller  \n",
       "4   Usual Suspects, The (1995)                       Crime|Mystery|Thriller  "
      ]
     },
     "metadata": {},
     "output_type": "display_data"
    }
   ],
   "source": [
    "import pandas as pd\n",
    "\n",
    "movies = pd.read_csv(\"data/ratings_movies.csv\")\n",
    "display(movies.head())"
   ]
  },
  {
   "cell_type": "code",
   "execution_count": 2,
   "metadata": {},
   "outputs": [],
   "source": [
    "#библиотека для регулярных выражений\n",
    "import re \n",
    "def get_year_release(arg):\n",
    "    #находим все слова по шаблону \"(DDDD)\"\n",
    "    candidates = re.findall(r'\\(\\d{4}\\)', arg) \n",
    "    # проверяем число вхождений\n",
    "    if len(candidates) > 0:\n",
    "        #если число вхождений больше 0,\n",
    "\t#очищаем строку от знаков \"(\" и \")\"\n",
    "        year = candidates[0].replace('(', '')\n",
    "        year = year.replace(')', '')\n",
    "        return int(year)\n",
    "    else:\n",
    "        #если год не указан, возвращаем None\n",
    "        return None"
   ]
  },
  {
   "cell_type": "code",
   "execution_count": 3,
   "metadata": {},
   "outputs": [
    {
     "name": "stdout",
     "output_type": "stream",
     "text": [
      "Количество фильмов без указания года выпуска: 18\n"
     ]
    }
   ],
   "source": [
    "# Создайте в таблице новый признак year_release, который соответствует году выпуска фильма.\n",
    "# У скольких фильмов не указан год их выпуска?\n",
    "\n",
    "# Создаем новый столбец year_release с помощью apply и функции get_year_release\n",
    "movies['year_release'] = movies['title'].apply(get_year_release)\n",
    "\n",
    "# Считаем количество фильмов, у которых не указан год выпуска\n",
    "movies_without_year = movies[movies['year_release'].isnull()]\n",
    "num_movies_without_year = len(movies_without_year)\n",
    "\n",
    "print(f\"Количество фильмов без указания года выпуска: {num_movies_without_year}\")"
   ]
  },
  {
   "cell_type": "code",
   "execution_count": 4,
   "metadata": {},
   "outputs": [
    {
     "name": "stdout",
     "output_type": "stream",
     "text": [
      "Bloodsport: The Dark Kumite\n"
     ]
    }
   ],
   "source": [
    "# Какой фильм, выпущенный в 1999 году, получил наименьшую среднюю оценку зрителей?\n",
    "# В качестве ответа запишите название этого фильма без указания года его выпуска.\n",
    "\n",
    "# Выбор фильмов, выпущенных в 1999 году\n",
    "movies_1999 = movies[movies['year_release'] == 1999]\n",
    "\n",
    "# Группировка по movieId и вычисление средней оценки для каждого фильма\n",
    "average_ratings = movies_1999.groupby('movieId')['rating'].mean().reset_index()\n",
    "\n",
    "# Находим movieId с наименьшей средней оценкой\n",
    "min_avg_rating_movieId = average_ratings.loc[average_ratings['rating'].idxmin()]['movieId']\n",
    "\n",
    "# Находим название фильма с наименьшей средней оценкой\n",
    "movie_title = movies[movies['movieId'] == min_avg_rating_movieId]['title'].values[0]\n",
    "\n",
    "# Выводим название фильма без указания года его выпуска\n",
    "print(movie_title.split(' (')[0])"
   ]
  },
  {
   "cell_type": "code",
   "execution_count": 5,
   "metadata": {},
   "outputs": [
    {
     "name": "stdout",
     "output_type": "stream",
     "text": [
      "Action|Sci-Fi\n"
     ]
    }
   ],
   "source": [
    "# Какое сочетание жанров фильмов (genres), выпущенных в 2010 году, получило наименьшую среднюю оценку (rating)?\n",
    "# Запишите сочетание так же, как оно указано в таблице (через разделитель |, без пробелов).\n",
    "\n",
    "# Выбор фильмов, выпущенных в 2010 году\n",
    "movies_2010 = movies[movies['year_release'] == 2010]\n",
    "\n",
    "# Группировка по жанрам (genres) и вычисление средней оценки для каждого сочетания жанров\n",
    "average_ratings_genres = movies_2010.groupby('genres')['rating'].mean().reset_index()\n",
    "\n",
    "# Находим сочетание жанров с наименьшей средней оценкой\n",
    "min_avg_rating_genres = average_ratings_genres.loc[average_ratings_genres['rating'].idxmin()]['genres']\n",
    "\n",
    "# Выводим сочетание жанров с наименьшей средней оценкой\n",
    "print(min_avg_rating_genres)"
   ]
  },
  {
   "cell_type": "code",
   "execution_count": 6,
   "metadata": {},
   "outputs": [
    {
     "name": "stdout",
     "output_type": "stream",
     "text": [
      "599\n"
     ]
    }
   ],
   "source": [
    "# Какой пользователь (userId) посмотрел наибольшее количество различных (уникальных) комбинаций жанров (genres) фильмов?\n",
    "# В качестве ответа запишите идентификатор этого пользователя.\n",
    "\n",
    "# Подсчет уникальных комбинаций жанров для каждого пользователя\n",
    "unique_genres_count = movies.groupby('userId')['genres'].nunique().reset_index()\n",
    "\n",
    "# Находим пользователя с наибольшим количеством уникальных комбинаций жанров\n",
    "user_with_max_unique_genres = unique_genres_count.loc[unique_genres_count['genres'].idxmax()]['userId']\n",
    "\n",
    "# Выводим идентификатор пользователя с наибольшим количеством уникальных комбинаций жанров\n",
    "print(user_with_max_unique_genres)"
   ]
  },
  {
   "cell_type": "code",
   "execution_count": 8,
   "metadata": {},
   "outputs": [
    {
     "name": "stdout",
     "output_type": "stream",
     "text": [
      "53\n"
     ]
    }
   ],
   "source": [
    "# Найдите пользователя, который выставил наименьшее количество оценок, но его средняя оценка фильмам наибольшая.\n",
    "# В качестве ответа укажите идентификатор этого пользователя. Чтобы рассчитать несколько параметров для каждого\n",
    "# пользователя (количество оценок и среднюю оценку), можно воспользоваться методом agg() на сгруппированных данных.\n",
    "\n",
    "# Группировка данных по userId и вычисление количества оценок и средней оценки для каждого пользователя\n",
    "user_ratings_info = movies.groupby('userId').agg({'rating': ['count', 'mean']}).reset_index()\n",
    "\n",
    "# Находим пользователя с самой высокой средней оценкой\n",
    "user_highest_mean_rating = user_ratings_info[user_ratings_info[('rating', 'mean')] == user_ratings_info[('rating', 'mean')].max()]\n",
    "\n",
    "# Находим пользователя среди тех, у кого самая высокая средняя оценка, но с наименьшим количеством оценок\n",
    "user_min_ratings_max_mean = user_highest_mean_rating[user_highest_mean_rating[('rating', 'count')] == user_highest_mean_rating[('rating', 'count')].min()]\n",
    "\n",
    "# Выводим идентификатор пользователя\n",
    "print(user_min_ratings_max_mean['userId'].values[0])"
   ]
  },
  {
   "cell_type": "code",
   "execution_count": 9,
   "metadata": {},
   "outputs": [
    {
     "name": "stdout",
     "output_type": "stream",
     "text": [
      "Action|Adventure|Sci-Fi\n"
     ]
    }
   ],
   "source": [
    "# Найдите сочетание жанров (genres) за 2018 год, которое имеет наибольший средний рейтинг (среднее по столбцу rating),\n",
    "# и при этом число выставленных ему оценок (количество значений в столбце rating) больше 10.\n",
    "# Запишите сочетание так же, как оно указано в таблице (через разделитель |, без пробелов).\n",
    "\n",
    "# Выбор фильмов, выпущенных в 2018 году\n",
    "movies_2018 = movies[movies['year_release'] == 2018]\n",
    "\n",
    "# Группировка по жанрам (genres) и вычисление среднего рейтинга и числа оценок для каждого сочетания жанров\n",
    "genres_ratings_info = movies_2018.groupby('genres')['rating'].agg(['mean', 'count']).reset_index()\n",
    "\n",
    "# Фильтрация данных по условиям: число оценок больше 10 и нахождение сочетания жанров с наибольшим средним рейтингом\n",
    "max_rating_genres = genres_ratings_info[(genres_ratings_info['count'] > 10) & (genres_ratings_info['mean'] == genres_ratings_info[genres_ratings_info['count'] > 10]['mean'].max())]['genres'].values[0]\n",
    "\n",
    "# Вывод сочетания жанров\n",
    "print(max_rating_genres)"
   ]
  },
  {
   "cell_type": "code",
   "execution_count": 10,
   "metadata": {},
   "outputs": [
    {
     "name": "stdout",
     "output_type": "stream",
     "text": [
      "A: True\n",
      "B: False\n",
      "C: True\n",
      "D: False\n"
     ]
    }
   ],
   "source": [
    "# обавьте в таблицу новый признак year_rating — год выставления оценки. Создайте сводную таблицу, которая иллюстрирует\n",
    "# зависимость среднего рейтинга фильма от года выставления оценки и жанра. \n",
    "# Выберите верные варианты ответа, исходя из построенной таблицы:\n",
    "\n",
    "# Добавление признака year_rating - год выставления оценки\n",
    "movies['year_rating'] = pd.to_datetime(movies['date']).dt.year\n",
    "\n",
    "# Создание сводной таблицы\n",
    "pivot_table = movies.pivot_table(values='rating', index='genres', columns='year_rating', aggfunc='mean')\n",
    "\n",
    "# Анализ данных по утверждениям\n",
    "print(\"A:\", pivot_table.loc['Action|Adventure'].min() >= 3)\n",
    "print(\"B:\", pivot_table.loc['Action|Adventure|Animation|Children|Comedy|IMAX', 2010] == pivot_table.loc['Action|Adventure|Animation|Children|Comedy|IMAX'].max())\n",
    "print(\"C:\", 'Animation|Children|Mystery' in pivot_table[pivot_table.index.isin(['Animation|Children|Mystery'])][2018])\n",
    "print(\"D:\", pivot_table.loc['Comedy'].idxmax() == 1996)  # Проверяем, возрастает ли рейтинг"
   ]
  },
  {
   "cell_type": "code",
   "execution_count": 14,
   "metadata": {},
   "outputs": [
    {
     "data": {
      "text/html": [
       "<div>\n",
       "<style scoped>\n",
       "    .dataframe tbody tr th:only-of-type {\n",
       "        vertical-align: middle;\n",
       "    }\n",
       "\n",
       "    .dataframe tbody tr th {\n",
       "        vertical-align: top;\n",
       "    }\n",
       "\n",
       "    .dataframe thead th {\n",
       "        text-align: right;\n",
       "    }\n",
       "</style>\n",
       "<table border=\"1\" class=\"dataframe\">\n",
       "  <thead>\n",
       "    <tr style=\"text-align: right;\">\n",
       "      <th></th>\n",
       "      <th>Дата создания</th>\n",
       "      <th>Order ID</th>\n",
       "      <th>ID Покупателя</th>\n",
       "      <th>Статус</th>\n",
       "      <th>Оплачен</th>\n",
       "      <th>Отменен</th>\n",
       "      <th>Отгружен</th>\n",
       "      <th>ID товара</th>\n",
       "      <th>Количество</th>\n",
       "    </tr>\n",
       "  </thead>\n",
       "  <tbody>\n",
       "    <tr>\n",
       "      <th>0</th>\n",
       "      <td>09.11.2019 21:55:51</td>\n",
       "      <td>9</td>\n",
       "      <td>10</td>\n",
       "      <td>Принят, ожидается оплата</td>\n",
       "      <td>Нет</td>\n",
       "      <td>Нет</td>\n",
       "      <td>Нет</td>\n",
       "      <td>103</td>\n",
       "      <td>5</td>\n",
       "    </tr>\n",
       "    <tr>\n",
       "      <th>1</th>\n",
       "      <td>09.11.2019 15:05:57</td>\n",
       "      <td>8</td>\n",
       "      <td>9</td>\n",
       "      <td>Принят, ожидается оплата</td>\n",
       "      <td>Нет</td>\n",
       "      <td>Нет</td>\n",
       "      <td>Нет</td>\n",
       "      <td>86</td>\n",
       "      <td>100</td>\n",
       "    </tr>\n",
       "    <tr>\n",
       "      <th>2</th>\n",
       "      <td>09.11.2019 15:05:57</td>\n",
       "      <td>8</td>\n",
       "      <td>9</td>\n",
       "      <td>Принят, ожидается оплата</td>\n",
       "      <td>Нет</td>\n",
       "      <td>Нет</td>\n",
       "      <td>Нет</td>\n",
       "      <td>104</td>\n",
       "      <td>10</td>\n",
       "    </tr>\n",
       "    <tr>\n",
       "      <th>3</th>\n",
       "      <td>09.11.2019 12:50:07</td>\n",
       "      <td>7</td>\n",
       "      <td>8</td>\n",
       "      <td>Принят, ожидается оплата</td>\n",
       "      <td>Нет</td>\n",
       "      <td>Нет</td>\n",
       "      <td>Нет</td>\n",
       "      <td>104</td>\n",
       "      <td>7</td>\n",
       "    </tr>\n",
       "    <tr>\n",
       "      <th>4</th>\n",
       "      <td>09.11.2019 12:00:00</td>\n",
       "      <td>6</td>\n",
       "      <td>1</td>\n",
       "      <td>Принят, ожидается оплата</td>\n",
       "      <td>Нет</td>\n",
       "      <td>Нет</td>\n",
       "      <td>Нет</td>\n",
       "      <td>104</td>\n",
       "      <td>5</td>\n",
       "    </tr>\n",
       "  </tbody>\n",
       "</table>\n",
       "</div>"
      ],
      "text/plain": [
       "         Дата создания  Order ID  ID Покупателя                    Статус  \\\n",
       "0  09.11.2019 21:55:51         9             10  Принят, ожидается оплата   \n",
       "1  09.11.2019 15:05:57         8              9  Принят, ожидается оплата   \n",
       "2  09.11.2019 15:05:57         8              9  Принят, ожидается оплата   \n",
       "3  09.11.2019 12:50:07         7              8  Принят, ожидается оплата   \n",
       "4  09.11.2019 12:00:00         6              1  Принят, ожидается оплата   \n",
       "\n",
       "  Оплачен Отменен Отгружен  ID товара  Количество  \n",
       "0     Нет     Нет      Нет        103           5  \n",
       "1     Нет     Нет      Нет         86         100  \n",
       "2     Нет     Нет      Нет        104          10  \n",
       "3     Нет     Нет      Нет        104           7  \n",
       "4     Нет     Нет      Нет        104           5  "
      ]
     },
     "metadata": {},
     "output_type": "display_data"
    },
    {
     "data": {
      "text/html": [
       "<div>\n",
       "<style scoped>\n",
       "    .dataframe tbody tr th:only-of-type {\n",
       "        vertical-align: middle;\n",
       "    }\n",
       "\n",
       "    .dataframe tbody tr th {\n",
       "        vertical-align: top;\n",
       "    }\n",
       "\n",
       "    .dataframe thead th {\n",
       "        text-align: right;\n",
       "    }\n",
       "</style>\n",
       "<table border=\"1\" class=\"dataframe\">\n",
       "  <thead>\n",
       "    <tr style=\"text-align: right;\">\n",
       "      <th></th>\n",
       "      <th>Product_ID</th>\n",
       "      <th>Name</th>\n",
       "      <th>Price</th>\n",
       "      <th>CURRENCY</th>\n",
       "    </tr>\n",
       "  </thead>\n",
       "  <tbody>\n",
       "    <tr>\n",
       "      <th>0</th>\n",
       "      <td>47</td>\n",
       "      <td>Шатны Полосатый рейс</td>\n",
       "      <td>2999</td>\n",
       "      <td>RUR</td>\n",
       "    </tr>\n",
       "    <tr>\n",
       "      <th>1</th>\n",
       "      <td>51</td>\n",
       "      <td>Платье Аленький цветочек</td>\n",
       "      <td>4999</td>\n",
       "      <td>RUR</td>\n",
       "    </tr>\n",
       "    <tr>\n",
       "      <th>2</th>\n",
       "      <td>53</td>\n",
       "      <td>Штаны Цветочная Поляна</td>\n",
       "      <td>4999</td>\n",
       "      <td>RUR</td>\n",
       "    </tr>\n",
       "    <tr>\n",
       "      <th>3</th>\n",
       "      <td>71</td>\n",
       "      <td>Платье Ночная Жизнь</td>\n",
       "      <td>7999</td>\n",
       "      <td>RUR</td>\n",
       "    </tr>\n",
       "    <tr>\n",
       "      <th>4</th>\n",
       "      <td>74</td>\n",
       "      <td>Платье Ночная Жизнь XXXL</td>\n",
       "      <td>8999</td>\n",
       "      <td>RUR</td>\n",
       "    </tr>\n",
       "  </tbody>\n",
       "</table>\n",
       "</div>"
      ],
      "text/plain": [
       "   Product_ID                      Name  Price CURRENCY\n",
       "0          47      Шатны Полосатый рейс   2999      RUR\n",
       "1          51  Платье Аленький цветочек   4999      RUR\n",
       "2          53    Штаны Цветочная Поляна   4999      RUR\n",
       "3          71       Платье Ночная Жизнь   7999      RUR\n",
       "4          74  Платье Ночная Жизнь XXXL   8999      RUR"
      ]
     },
     "metadata": {},
     "output_type": "display_data"
    }
   ],
   "source": [
    "# Новая задача в двумя новыми таблицами, стандартный вид чтения не сработал из-за разделителя \";\"\n",
    "orders = pd.read_csv(\"data/orders.csv\", delimiter=\";\")\n",
    "products = pd.read_csv(\"data/products.csv\",delimiter=\";\")\n",
    "display(orders.head())\n",
    "display(products.head())"
   ]
  },
  {
   "cell_type": "code",
   "execution_count": 16,
   "metadata": {},
   "outputs": [
    {
     "data": {
      "text/html": [
       "<div>\n",
       "<style scoped>\n",
       "    .dataframe tbody tr th:only-of-type {\n",
       "        vertical-align: middle;\n",
       "    }\n",
       "\n",
       "    .dataframe tbody tr th {\n",
       "        vertical-align: top;\n",
       "    }\n",
       "\n",
       "    .dataframe thead th {\n",
       "        text-align: right;\n",
       "    }\n",
       "</style>\n",
       "<table border=\"1\" class=\"dataframe\">\n",
       "  <thead>\n",
       "    <tr style=\"text-align: right;\">\n",
       "      <th></th>\n",
       "      <th>Дата создания</th>\n",
       "      <th>Order ID</th>\n",
       "      <th>ID Покупателя</th>\n",
       "      <th>Статус</th>\n",
       "      <th>Оплачен</th>\n",
       "      <th>Отменен</th>\n",
       "      <th>Отгружен</th>\n",
       "      <th>ID товара</th>\n",
       "      <th>Количество</th>\n",
       "      <th>Product_ID</th>\n",
       "      <th>Name</th>\n",
       "      <th>Price</th>\n",
       "      <th>CURRENCY</th>\n",
       "    </tr>\n",
       "  </thead>\n",
       "  <tbody>\n",
       "    <tr>\n",
       "      <th>0</th>\n",
       "      <td>09.11.2019 21:55:51</td>\n",
       "      <td>9</td>\n",
       "      <td>10</td>\n",
       "      <td>Принят, ожидается оплата</td>\n",
       "      <td>Нет</td>\n",
       "      <td>Нет</td>\n",
       "      <td>Нет</td>\n",
       "      <td>103</td>\n",
       "      <td>5</td>\n",
       "      <td>103.0</td>\n",
       "      <td>Носки Подарочные, муж</td>\n",
       "      <td>199.0</td>\n",
       "      <td>RUR</td>\n",
       "    </tr>\n",
       "    <tr>\n",
       "      <th>1</th>\n",
       "      <td>09.11.2019 15:05:57</td>\n",
       "      <td>8</td>\n",
       "      <td>9</td>\n",
       "      <td>Принят, ожидается оплата</td>\n",
       "      <td>Нет</td>\n",
       "      <td>Нет</td>\n",
       "      <td>Нет</td>\n",
       "      <td>86</td>\n",
       "      <td>100</td>\n",
       "      <td>86.0</td>\n",
       "      <td>Носки Простые, муж</td>\n",
       "      <td>45.0</td>\n",
       "      <td>RUR</td>\n",
       "    </tr>\n",
       "    <tr>\n",
       "      <th>2</th>\n",
       "      <td>09.11.2019 15:05:57</td>\n",
       "      <td>8</td>\n",
       "      <td>9</td>\n",
       "      <td>Принят, ожидается оплата</td>\n",
       "      <td>Нет</td>\n",
       "      <td>Нет</td>\n",
       "      <td>Нет</td>\n",
       "      <td>104</td>\n",
       "      <td>10</td>\n",
       "      <td>104.0</td>\n",
       "      <td>Носки Подарочные, жен</td>\n",
       "      <td>249.0</td>\n",
       "      <td>RUR</td>\n",
       "    </tr>\n",
       "    <tr>\n",
       "      <th>3</th>\n",
       "      <td>09.11.2019 12:50:07</td>\n",
       "      <td>7</td>\n",
       "      <td>8</td>\n",
       "      <td>Принят, ожидается оплата</td>\n",
       "      <td>Нет</td>\n",
       "      <td>Нет</td>\n",
       "      <td>Нет</td>\n",
       "      <td>104</td>\n",
       "      <td>7</td>\n",
       "      <td>104.0</td>\n",
       "      <td>Носки Подарочные, жен</td>\n",
       "      <td>249.0</td>\n",
       "      <td>RUR</td>\n",
       "    </tr>\n",
       "    <tr>\n",
       "      <th>4</th>\n",
       "      <td>09.11.2019 12:00:00</td>\n",
       "      <td>6</td>\n",
       "      <td>1</td>\n",
       "      <td>Принят, ожидается оплата</td>\n",
       "      <td>Нет</td>\n",
       "      <td>Нет</td>\n",
       "      <td>Нет</td>\n",
       "      <td>104</td>\n",
       "      <td>5</td>\n",
       "      <td>104.0</td>\n",
       "      <td>Носки Подарочные, жен</td>\n",
       "      <td>249.0</td>\n",
       "      <td>RUR</td>\n",
       "    </tr>\n",
       "  </tbody>\n",
       "</table>\n",
       "</div>"
      ],
      "text/plain": [
       "         Дата создания  Order ID  ID Покупателя                    Статус  \\\n",
       "0  09.11.2019 21:55:51         9             10  Принят, ожидается оплата   \n",
       "1  09.11.2019 15:05:57         8              9  Принят, ожидается оплата   \n",
       "2  09.11.2019 15:05:57         8              9  Принят, ожидается оплата   \n",
       "3  09.11.2019 12:50:07         7              8  Принят, ожидается оплата   \n",
       "4  09.11.2019 12:00:00         6              1  Принят, ожидается оплата   \n",
       "\n",
       "  Оплачен Отменен Отгружен  ID товара  Количество  Product_ID  \\\n",
       "0     Нет     Нет      Нет        103           5       103.0   \n",
       "1     Нет     Нет      Нет         86         100        86.0   \n",
       "2     Нет     Нет      Нет        104          10       104.0   \n",
       "3     Нет     Нет      Нет        104           7       104.0   \n",
       "4     Нет     Нет      Нет        104           5       104.0   \n",
       "\n",
       "                    Name  Price CURRENCY  \n",
       "0  Носки Подарочные, муж  199.0      RUR  \n",
       "1     Носки Простые, муж   45.0      RUR  \n",
       "2  Носки Подарочные, жен  249.0      RUR  \n",
       "3  Носки Подарочные, жен  249.0      RUR  \n",
       "4  Носки Подарочные, жен  249.0      RUR  "
      ]
     },
     "metadata": {},
     "output_type": "display_data"
    }
   ],
   "source": [
    "# Объединение таблиц с помощью merge, чтобы в результирующей таблице оказалась инфа обо всех заказах, необходим\n",
    "# параметр how = left, это позволит сохранить все записи из таблицы orders и добавить всю соответствующую инфу из products\n",
    "\n",
    "# Объединение таблиц по столбцу 'ID товара' с сохранением всех записей из таблицы orders\n",
    "orders_products = orders.merge(products, left_on='ID товара', right_on='Product_ID', how='left')\n",
    "display(orders_products.head())\n"
   ]
  },
  {
   "cell_type": "code",
   "execution_count": 19,
   "metadata": {},
   "outputs": [
    {
     "name": "stdout",
     "output_type": "stream",
     "text": [
      "[0]\n"
     ]
    }
   ],
   "source": [
    "# Какой идентификатор (Order ID) имеет заказ, для которого не оказалось информации о товаре?\n",
    "\n",
    "# Находим Order ID, для которого нет информации о товаре (NaN в столбце Product_ID)\n",
    "missing_product_order = orders_products.loc[orders_products['Product_ID'].isnull(), 'Order ID'].unique()\n",
    "print(missing_product_order)"
   ]
  },
  {
   "cell_type": "code",
   "execution_count": 20,
   "metadata": {},
   "outputs": [
    {
     "name": "stdout",
     "output_type": "stream",
     "text": [
      "Носки беговые Camino\n"
     ]
    }
   ],
   "source": [
    "# На какой товар была произведена отмена? В качестве ответа запишите название этого товара (Name).\n",
    "\n",
    "# Находим название товара, для которого была отмена заказа\n",
    "canceled_product_name = orders_products.loc[orders_products['Статус'] == 'Отменён', 'Name'].iloc[0]\n",
    "\n",
    "# Выводим название отмененного товара\n",
    "print(canceled_product_name)"
   ]
  },
  {
   "cell_type": "code",
   "execution_count": 21,
   "metadata": {},
   "outputs": [
    {
     "name": "stdout",
     "output_type": "stream",
     "text": [
      "7\n"
     ]
    }
   ],
   "source": [
    "# Какой покупатель принёс наибольшую суммарную прибыль интернет-магазину за указанный период?\n",
    "# В ответ запишите идентификатор этого покупателя (ID Покупателя).\n",
    "# Прибыль состоит только из оплаченных заказов и рассчитывается как количество купленного товара, умноженное на его цену.\n",
    "\n",
    "# Создаем новый столбец 'TotalProfit' в таблице 'orders_products'\n",
    "orders_products['TotalProfit'] = orders_products['Price'] * orders_products['Количество']\n",
    "\n",
    "# Группируем данные по 'ID Покупателя' и суммируем значения 'TotalProfit' для каждого покупателя\n",
    "customer_total_profit = orders_products.groupby('ID Покупателя')['TotalProfit'].sum()\n",
    "\n",
    "# Находим покупателя с наибольшей суммарной прибылью\n",
    "customer_max_profit = customer_total_profit.idxmax()\n",
    "\n",
    "# Выводим идентификатор покупателя с наибольшей суммарной прибылью\n",
    "print(customer_max_profit)"
   ]
  }
 ],
 "metadata": {
  "kernelspec": {
   "display_name": "Python 3",
   "language": "python",
   "name": "python3"
  },
  "language_info": {
   "codemirror_mode": {
    "name": "ipython",
    "version": 3
   },
   "file_extension": ".py",
   "mimetype": "text/x-python",
   "name": "python",
   "nbconvert_exporter": "python",
   "pygments_lexer": "ipython3",
   "version": "3.12.0"
  }
 },
 "nbformat": 4,
 "nbformat_minor": 2
}
