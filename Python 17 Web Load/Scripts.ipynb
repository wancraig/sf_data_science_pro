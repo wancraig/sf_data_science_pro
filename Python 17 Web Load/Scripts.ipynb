{
 "cells": [
  {
   "cell_type": "code",
   "execution_count": null,
   "metadata": {},
   "outputs": [],
   "source": [
    "import schedule # Импортируем модуль schedule\n",
    "\n",
    "def task(): \n",
    "    print('Hello! I am a task!') \n",
    "    return \n",
    "\n",
    "# schedule.every(15).minutes.do(task)\n",
    "# schedule.every(1).hour.do(task) \n",
    "\n",
    "import time \n",
    "while True: \n",
    "    schedule.run_pending() \n",
    "    time.sleep(1)"
   ]
  }
 ],
 "metadata": {
  "kernelspec": {
   "display_name": "Python 3",
   "language": "python",
   "name": "python3"
  },
  "language_info": {
   "codemirror_mode": {
    "name": "ipython",
    "version": 3
   },
   "file_extension": ".py",
   "mimetype": "text/x-python",
   "name": "python",
   "nbconvert_exporter": "python",
   "pygments_lexer": "ipython3",
   "version": "3.12.0"
  }
 },
 "nbformat": 4,
 "nbformat_minor": 2
}
